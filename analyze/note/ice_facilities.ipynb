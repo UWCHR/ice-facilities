{
 "cells": [
  {
   "cell_type": "code",
   "execution_count": 2,
   "metadata": {},
   "outputs": [],
   "source": [
    "import pandas as pd\n",
    "import numpy as np\n",
    "import matplotlib.pyplot as plt\n",
    "import yaml"
   ]
  },
  {
   "cell_type": "code",
   "execution_count": 3,
   "metadata": {},
   "outputs": [],
   "source": [
    "read_csv_opts = {'sep': '|',\n",
    "                 'quotechar': '\"',\n",
    "                 'compression': 'gzip',\n",
    "                 'encoding': 'utf-8',\n",
    "                 'header': 8}"
   ]
  },
  {
   "cell_type": "code",
   "execution_count": 4,
   "metadata": {},
   "outputs": [],
   "source": [
    "df = pd.read_csv('../input/ICEFacilityListReport.csv.gz', **read_csv_opts)"
   ]
  },
  {
   "cell_type": "code",
   "execution_count": 5,
   "metadata": {},
   "outputs": [
    {
     "data": {
      "text/html": [
       "<div>\n",
       "<style scoped>\n",
       "    .dataframe tbody tr th:only-of-type {\n",
       "        vertical-align: middle;\n",
       "    }\n",
       "\n",
       "    .dataframe tbody tr th {\n",
       "        vertical-align: top;\n",
       "    }\n",
       "\n",
       "    .dataframe thead th {\n",
       "        text-align: right;\n",
       "    }\n",
       "</style>\n",
       "<table border=\"1\" class=\"dataframe\">\n",
       "  <thead>\n",
       "    <tr style=\"text-align: right;\">\n",
       "      <th></th>\n",
       "      <th>DETLOC</th>\n",
       "      <th>Name</th>\n",
       "      <th>Address</th>\n",
       "      <th>City</th>\n",
       "      <th>County</th>\n",
       "      <th>State</th>\n",
       "      <th>Zip</th>\n",
       "      <th>Circuit</th>\n",
       "      <th>AOR</th>\n",
       "      <th>Docket</th>\n",
       "      <th>...</th>\n",
       "      <th>DSM Assigned?</th>\n",
       "      <th>DSM Assignment Type</th>\n",
       "      <th>FY18 Calendar Days in Use</th>\n",
       "      <th>FY18 Possible Days</th>\n",
       "      <th>FY18 % of Days in Use</th>\n",
       "      <th>FY18 Total Mandays</th>\n",
       "      <th>FY17 Calendar Days in Use</th>\n",
       "      <th>FY17 % of Days in Use</th>\n",
       "      <th>FY17 Total Mandays</th>\n",
       "      <th>FY17 Max Pop Count</th>\n",
       "    </tr>\n",
       "  </thead>\n",
       "  <tbody>\n",
       "    <tr>\n",
       "      <th>0</th>\n",
       "      <td>ABRDNWA</td>\n",
       "      <td>ABERDEEN CITY JAIL</td>\n",
       "      <td>210 EAST MARKET ST</td>\n",
       "      <td>ABERDEEN</td>\n",
       "      <td>GRAYS HARBOR</td>\n",
       "      <td>WA</td>\n",
       "      <td>98520</td>\n",
       "      <td>9</td>\n",
       "      <td>SEA</td>\n",
       "      <td>SEA</td>\n",
       "      <td>...</td>\n",
       "      <td>No</td>\n",
       "      <td>NaN</td>\n",
       "      <td>0</td>\n",
       "      <td>400</td>\n",
       "      <td>0.00%</td>\n",
       "      <td>0</td>\n",
       "      <td>0</td>\n",
       "      <td>0.00%</td>\n",
       "      <td>0</td>\n",
       "      <td>0</td>\n",
       "    </tr>\n",
       "    <tr>\n",
       "      <th>1</th>\n",
       "      <td>ABTHOLD</td>\n",
       "      <td>ABILENE HOLD ROOM</td>\n",
       "      <td>12071 FM 3522</td>\n",
       "      <td>ABILENE</td>\n",
       "      <td>ABILENE</td>\n",
       "      <td>TX</td>\n",
       "      <td>79601</td>\n",
       "      <td>5</td>\n",
       "      <td>DAL</td>\n",
       "      <td>ABT</td>\n",
       "      <td>...</td>\n",
       "      <td>No</td>\n",
       "      <td>NaN</td>\n",
       "      <td>0</td>\n",
       "      <td>400</td>\n",
       "      <td>0.00%</td>\n",
       "      <td>0</td>\n",
       "      <td>0</td>\n",
       "      <td>0.00%</td>\n",
       "      <td>0</td>\n",
       "      <td>0</td>\n",
       "    </tr>\n",
       "    <tr>\n",
       "      <th>2</th>\n",
       "      <td>ABRXSPA</td>\n",
       "      <td>ABRAXAS ACADEMY DETENTION CENTER</td>\n",
       "      <td>1000 ACADEMY DRIVE</td>\n",
       "      <td>MORGANTOWN</td>\n",
       "      <td>BERKS</td>\n",
       "      <td>PA</td>\n",
       "      <td>19543</td>\n",
       "      <td>3</td>\n",
       "      <td>PHI</td>\n",
       "      <td>BRK</td>\n",
       "      <td>...</td>\n",
       "      <td>No</td>\n",
       "      <td>NaN</td>\n",
       "      <td>35</td>\n",
       "      <td>400</td>\n",
       "      <td>8.75%</td>\n",
       "      <td>800</td>\n",
       "      <td>372</td>\n",
       "      <td>101.92%</td>\n",
       "      <td>1,207</td>\n",
       "      <td>5</td>\n",
       "    </tr>\n",
       "    <tr>\n",
       "      <th>3</th>\n",
       "      <td>RICRANS</td>\n",
       "      <td>ACI (CRANSTON, RHODE ISLAND)</td>\n",
       "      <td>39 HOWARD AVE</td>\n",
       "      <td>CRANSTON</td>\n",
       "      <td>PROVIDENCE</td>\n",
       "      <td>RI</td>\n",
       "      <td>02920</td>\n",
       "      <td>1</td>\n",
       "      <td>BOS</td>\n",
       "      <td>BOS</td>\n",
       "      <td>...</td>\n",
       "      <td>No</td>\n",
       "      <td>NaN</td>\n",
       "      <td>0</td>\n",
       "      <td>400</td>\n",
       "      <td>0.00%</td>\n",
       "      <td>0</td>\n",
       "      <td>0</td>\n",
       "      <td>0.00%</td>\n",
       "      <td>0</td>\n",
       "      <td>0</td>\n",
       "    </tr>\n",
       "    <tr>\n",
       "      <th>4</th>\n",
       "      <td>ADACOID</td>\n",
       "      <td>ADA COUNTY JAIL</td>\n",
       "      <td>7210 BARRISTER DRIVE</td>\n",
       "      <td>BOISE</td>\n",
       "      <td>ADA</td>\n",
       "      <td>ID</td>\n",
       "      <td>83704</td>\n",
       "      <td>9</td>\n",
       "      <td>SLC</td>\n",
       "      <td>HEL</td>\n",
       "      <td>...</td>\n",
       "      <td>No</td>\n",
       "      <td>NaN</td>\n",
       "      <td>0</td>\n",
       "      <td>400</td>\n",
       "      <td>0.00%</td>\n",
       "      <td>0</td>\n",
       "      <td>0</td>\n",
       "      <td>0.00%</td>\n",
       "      <td>0</td>\n",
       "      <td>0</td>\n",
       "    </tr>\n",
       "  </tbody>\n",
       "</table>\n",
       "<p>5 rows × 135 columns</p>\n",
       "</div>"
      ],
      "text/plain": [
       "    DETLOC                              Name               Address  \\\n",
       "0  ABRDNWA                ABERDEEN CITY JAIL    210 EAST MARKET ST   \n",
       "1  ABTHOLD                 ABILENE HOLD ROOM         12071 FM 3522   \n",
       "2  ABRXSPA  ABRAXAS ACADEMY DETENTION CENTER    1000 ACADEMY DRIVE   \n",
       "3  RICRANS      ACI (CRANSTON, RHODE ISLAND)         39 HOWARD AVE   \n",
       "4  ADACOID                   ADA COUNTY JAIL  7210 BARRISTER DRIVE   \n",
       "\n",
       "         City         County State    Zip  Circuit  AOR Docket  ...  \\\n",
       "0    ABERDEEN  GRAYS HARBOR     WA  98520        9  SEA    SEA  ...   \n",
       "1     ABILENE        ABILENE    TX  79601        5  DAL    ABT  ...   \n",
       "2  MORGANTOWN          BERKS    PA  19543        3  PHI    BRK  ...   \n",
       "3    CRANSTON     PROVIDENCE    RI  02920        1  BOS    BOS  ...   \n",
       "4       BOISE            ADA    ID  83704        9  SLC    HEL  ...   \n",
       "\n",
       "  DSM Assigned? DSM Assignment Type FY18 Calendar Days in Use  \\\n",
       "0            No                 NaN                         0   \n",
       "1            No                 NaN                         0   \n",
       "2            No                 NaN                        35   \n",
       "3            No                 NaN                         0   \n",
       "4            No                 NaN                         0   \n",
       "\n",
       "  FY18 Possible Days FY18 % of Days in Use FY18 Total Mandays  \\\n",
       "0                400                 0.00%                  0   \n",
       "1                400                 0.00%                  0   \n",
       "2                400                 8.75%                800   \n",
       "3                400                 0.00%                  0   \n",
       "4                400                 0.00%                  0   \n",
       "\n",
       "  FY17 Calendar Days in Use FY17 % of Days in Use FY17 Total Mandays  \\\n",
       "0                         0                 0.00%                  0   \n",
       "1                         0                 0.00%                  0   \n",
       "2                       372               101.92%              1,207   \n",
       "3                         0                 0.00%                  0   \n",
       "4                         0                 0.00%                  0   \n",
       "\n",
       "  FY17 Max Pop Count  \n",
       "0                  0  \n",
       "1                  0  \n",
       "2                  5  \n",
       "3                  0  \n",
       "4                  0  \n",
       "\n",
       "[5 rows x 135 columns]"
      ]
     },
     "execution_count": 5,
     "metadata": {},
     "output_type": "execute_result"
    }
   ],
   "source": [
    "df.head()"
   ]
  },
  {
   "cell_type": "code",
   "execution_count": 6,
   "metadata": {},
   "outputs": [
    {
     "data": {
      "text/plain": [
       "Index(['DETLOC', 'Name', 'Address', 'City', 'County', 'State', 'Zip',\n",
       "       'Circuit', 'AOR', 'Docket',\n",
       "       ...\n",
       "       'DSM Assigned?', 'DSM Assignment Type', 'FY18 Calendar Days in Use',\n",
       "       'FY18 Possible Days', 'FY18 % of Days in Use', 'FY18 Total Mandays',\n",
       "       'FY17 Calendar Days in Use', 'FY17 % of Days in Use',\n",
       "       'FY17 Total Mandays', 'FY17 Max Pop Count'],\n",
       "      dtype='object', length=135)"
      ]
     },
     "execution_count": 6,
     "metadata": {},
     "output_type": "execute_result"
    }
   ],
   "source": [
    "df.columns"
   ]
  },
  {
   "cell_type": "code",
   "execution_count": 8,
   "metadata": {},
   "outputs": [],
   "source": [
    "with open('../input/headcount-detlocs.yaml', 'r') as yamlfile:\n",
    "    headcount_detlocs = yaml.safe_load(yamlfile)"
   ]
  },
  {
   "cell_type": "code",
   "execution_count": 10,
   "metadata": {},
   "outputs": [],
   "source": [
    "headcount_detlocs = set(headcount_detlocs)"
   ]
  },
  {
   "cell_type": "code",
   "execution_count": 11,
   "metadata": {},
   "outputs": [],
   "source": [
    "nijc_detlocs = set(df['DETLOC'])"
   ]
  },
  {
   "cell_type": "code",
   "execution_count": 12,
   "metadata": {},
   "outputs": [
    {
     "data": {
      "text/plain": [
       "1479"
      ]
     },
     "execution_count": 12,
     "metadata": {},
     "output_type": "execute_result"
    }
   ],
   "source": [
    "len(nijc_detlocs)"
   ]
  },
  {
   "cell_type": "code",
   "execution_count": 17,
   "metadata": {},
   "outputs": [],
   "source": [
    "diff = headcount_detlocs.difference(nijc_detlocs)"
   ]
  },
  {
   "cell_type": "code",
   "execution_count": 18,
   "metadata": {},
   "outputs": [
    {
     "data": {
      "text/plain": [
       "150"
      ]
     },
     "execution_count": 18,
     "metadata": {},
     "output_type": "execute_result"
    }
   ],
   "source": [
    "len(diff)"
   ]
  },
  {
   "cell_type": "code",
   "execution_count": 20,
   "metadata": {},
   "outputs": [],
   "source": [
    "with open('../output/detloc-diff.yaml', 'w') as outfile:\n",
    "    yaml.dump(list(diff), outfile, default_flow_style=False, sort_keys=False)"
   ]
  },
  {
   "cell_type": "code",
   "execution_count": null,
   "metadata": {},
   "outputs": [],
   "source": []
  },
  {
   "cell_type": "code",
   "execution_count": 6,
   "metadata": {},
   "outputs": [],
   "source": [
    "levels_to_clean = ['ADP - Monthly',\n",
    "          'ADP: Criminality',\n",
    "          'ADP: Fiscal Year',\n",
    "          'ADP: Initial Bookins',\n",
    "          'Capacity',\n",
    "          'FY18 ADP: Criminality and Gender',\n",
    "          'FY18 ADP: Detainee Classification Level',\n",
    "          'FY18 ADP: ICE Threat Level',\n",
    "          'FY18 ADP: Mandatory Detention',\n",
    "          'Facility Average Length of Stay',\n",
    "          'Facility Bookins',\n",
    "          'Facility Information',\n",
    "          'Facility Statistics - FY 2017',\n",
    "          'Facility Statistics - FY 2018',\n",
    "          'Initial Bookins',\n",
    "          'Population']"
   ]
  },
  {
   "cell_type": "code",
   "execution_count": 7,
   "metadata": {},
   "outputs": [],
   "source": [
    "# # Need to check this doesn't cause issues, make smarter\n",
    "# for level in levels_to_clean:\n",
    "#     for col in df.loc[:, level]:\n",
    "#         try:\n",
    "#             df.loc[:, (level, col)] = df.loc[:, (level, col)].astype(str)\n",
    "#             df.loc[:, (level, col)] = df.loc[:, (level, col)].str.replace(',','')\n",
    "#             df.loc[:, (level, col)] = df.loc[:, (level, col)].str.replace('$','')\n",
    "#             df.loc[:, (level, col)] = df.loc[:, (level, col)].str.replace('%','')\n",
    "#             df.loc[:, (level, col)] = df.loc[:, (level, col)].astype(int)\n",
    "#         except ValueError:\n",
    "#             pass\n",
    "\n",
    "for col in df.columns:\n",
    "    try:\n",
    "        df.loc[:, col] = df.loc[:, col].astype(str)\n",
    "        df.loc[:, col] = df.loc[:, col].str.replace(',','')\n",
    "        df.loc[:, col] = df.loc[:, col].str.replace('$','')\n",
    "        df.loc[:, col] = df.loc[:, col].str.replace('%','')\n",
    "        df.loc[:, col] = df.loc[:, col].astype(int)\n",
    "    except ValueError:\n",
    "        pass"
   ]
  },
  {
   "cell_type": "code",
   "execution_count": 8,
   "metadata": {},
   "outputs": [],
   "source": [
    "# adp = []\n",
    "\n",
    "# for col in df.columns: adp.append('ADP' in col)"
   ]
  },
  {
   "cell_type": "code",
   "execution_count": 9,
   "metadata": {},
   "outputs": [],
   "source": [
    "adp = ['FY18 ADP',\n",
    "       'FY17 ADP',\n",
    "       'FY16 ADP',\n",
    "       'FY15 ADP',\n",
    "       'FY14 ADP',\n",
    "       'FY13 ADP',\n",
    "       'FY12 ADP',\n",
    "       'FY11 ADP',\n",
    "       'FY10 ADP',\n",
    "       'FY09 ADP']\n",
    "\n",
    "alos = ['FY18 ALOS',\n",
    "        'FY17 ALOS',\n",
    "        'FY16 ALOS',\n",
    "        'FY15 ALOS']"
   ]
  },
  {
   "cell_type": "code",
   "execution_count": 10,
   "metadata": {},
   "outputs": [],
   "source": [
    "adp_dict = df.set_index('DETLOC').loc[:, adp].to_dict('index')\n",
    "alos_dict = df.set_index('DETLOC').loc[:, alos].to_dict('index')"
   ]
  },
  {
   "cell_type": "code",
   "execution_count": 11,
   "metadata": {},
   "outputs": [],
   "source": [
    "with open('../output/adp_dict.yaml', 'w') as file:\n",
    "    yaml.dump(adp_dict, file, default_flow_style=False)\n",
    "\n",
    "with open('../output/alos_dict.yaml', 'w') as file:\n",
    "    yaml.dump(alos_dict, file, default_flow_style=False)    "
   ]
  },
  {
   "cell_type": "code",
   "execution_count": 12,
   "metadata": {},
   "outputs": [
    {
     "data": {
      "text/plain": [
       "AOR\n",
       "SNA    8817\n",
       "PHO    3972\n",
       "ATL    3480\n",
       "HOU    2873\n",
       "LOS    2759\n",
       "ELP    2685\n",
       "NOL    2493\n",
       "MIA    2030\n",
       "NYC    1795\n",
       "SND    1736\n",
       "CHI    1624\n",
       "SEA    1562\n",
       "DAL    1137\n",
       "DET    1104\n",
       "PHI    1079\n",
       "SFR    1060\n",
       "NEW    1025\n",
       "WAS     865\n",
       "SPM     812\n",
       "BOS     788\n",
       "DEN     651\n",
       "BUF     617\n",
       "SLC     472\n",
       "BAL     355\n",
       "Name: Population Count, dtype: int64"
      ]
     },
     "execution_count": 12,
     "metadata": {},
     "output_type": "execute_result"
    }
   ],
   "source": [
    "df.groupby(['AOR'])['Population Count'].sum().sort_values(ascending=False)"
   ]
  },
  {
   "cell_type": "code",
   "execution_count": 13,
   "metadata": {},
   "outputs": [
    {
     "data": {
      "text/plain": [
       "['DETLOC',\n",
       " 'Name',\n",
       " 'Address',\n",
       " 'City',\n",
       " 'County',\n",
       " 'State',\n",
       " 'Zip',\n",
       " 'Circuit',\n",
       " 'AOR',\n",
       " 'Docket',\n",
       " 'Type',\n",
       " 'Type Detailed',\n",
       " 'ICE Funded',\n",
       " 'Male/Female',\n",
       " 'Levels A,B,C,D',\n",
       " 'Capacity',\n",
       " 'Current FY Utilization',\n",
       " 'Population Count',\n",
       " 'Date of Last Use',\n",
       " 'Date of First Use',\n",
       " 'FY18 Max Population Count',\n",
       " 'FY18 ADP',\n",
       " 'FY17 ADP',\n",
       " 'FY16 ADP',\n",
       " 'FY15 ADP',\n",
       " 'FY14 ADP',\n",
       " 'FY13 ADP',\n",
       " 'FY12 ADP',\n",
       " 'FY11 ADP',\n",
       " 'FY10 ADP',\n",
       " 'FY09 ADP',\n",
       " 'November 2016',\n",
       " 'December 2016',\n",
       " 'January 2017',\n",
       " 'February 2017',\n",
       " 'March 2017',\n",
       " 'April 2017',\n",
       " 'May 2017',\n",
       " 'June 2017',\n",
       " 'July 2017',\n",
       " 'August 2017',\n",
       " 'September 2017',\n",
       " 'October 2017',\n",
       " 'November 2017',\n",
       " 'FY18 ALOS',\n",
       " 'FY17 ALOS',\n",
       " 'FY16 ALOS',\n",
       " 'FY15 ALOS',\n",
       " 'FY18 Facility Bookins',\n",
       " 'FY17 Facility Bookins',\n",
       " 'FY16 Facility Bookins',\n",
       " 'FY15 Facility Bookins',\n",
       " 'FY18 Initial Bookins',\n",
       " 'FY17 Initial Bookins',\n",
       " 'FY16 Initial Bookins',\n",
       " 'FY15 Initial Bookins',\n",
       " 'FY18 Initial Bookin ADP',\n",
       " 'FY17 Initial Bookin ADP',\n",
       " 'FY16 Initial Bookin ADP',\n",
       " 'FY15 Initial Bookin ADP',\n",
       " 'FY18 Non-Criminal',\n",
       " 'FY18 Criminal',\n",
       " 'FY17 Non-Criminal',\n",
       " 'FY17 Criminal',\n",
       " 'FY16 Non-Criminal',\n",
       " 'FY16 Criminal',\n",
       " 'FY15 Non-Criminal',\n",
       " 'FY15 Criminal',\n",
       " 'Level A',\n",
       " 'Level B',\n",
       " 'Level C',\n",
       " 'Level D',\n",
       " 'Male Crim',\n",
       " 'Male Non-Crim',\n",
       " 'Female Crim',\n",
       " 'Female Non-Crim',\n",
       " 'ICE Threat Level 1',\n",
       " 'ICE Threat Level 2',\n",
       " 'ICE Threat Level 3',\n",
       " 'No ICE Threat Level',\n",
       " 'Mandatory',\n",
       " 'Non-Mandatory',\n",
       " 'Medical Provider Onsite?',\n",
       " 'Provider Type',\n",
       " 'Facility Operator',\n",
       " 'Facility Owner',\n",
       " 'Best Known Contract Initiation Date',\n",
       " 'Best Known Contract Expiration Date',\n",
       " 'Guaranteed Minimum',\n",
       " 'Per Diem Rate Detailed',\n",
       " 'ICE Telephone Services',\n",
       " 'Authorization Status',\n",
       " 'Authorizing Authority',\n",
       " 'Over/Under 72',\n",
       " 'Contractually Obligated Inspection Standard',\n",
       " 'PREA/Standard 2.11 Status',\n",
       " 'Current Inspection Frequency',\n",
       " 'Last Inspection Type',\n",
       " 'Last Inspection Standard',\n",
       " 'Last Inspection Pre-Occ?',\n",
       " 'Last Inspection Rating - Final',\n",
       " 'Last Inspection Rating - Recommended',\n",
       " 'Last Inspection Date',\n",
       " 'Second to Last Inspection Type',\n",
       " 'Second to Last Inspection Standard',\n",
       " 'Second to Last Inspection Pre-Occ?',\n",
       " 'Second to Last Rating',\n",
       " 'Second to Last Inspection Date',\n",
       " 'Next Inspection Date',\n",
       " 'Next Inspection Standard',\n",
       " 'Next Inspection Type',\n",
       " 'Next Insp Pre-Occ?',\n",
       " 'CY17 Rating',\n",
       " 'CY16 Rating',\n",
       " 'CY15 RATING',\n",
       " 'CY14 RATING',\n",
       " 'CY13 RATING',\n",
       " 'CY12 RATING',\n",
       " 'CY11 RATING',\n",
       " 'CY10 RATING',\n",
       " 'EMDD Notes',\n",
       " 'EMDD USE',\n",
       " 'ACA',\n",
       " 'NCCHC',\n",
       " 'JCHCO',\n",
       " 'DSM Assigned?',\n",
       " 'DSM Assignment Type',\n",
       " 'FY18 Calendar Days in Use',\n",
       " 'FY18 Possible Days',\n",
       " 'FY18 % of Days in Use',\n",
       " 'FY18 Total Mandays',\n",
       " 'FY17 Calendar Days in Use',\n",
       " 'FY17 % of Days in Use',\n",
       " 'FY17 Total Mandays',\n",
       " 'FY17 Max Pop Count']"
      ]
     },
     "execution_count": 13,
     "metadata": {},
     "output_type": "execute_result"
    }
   ],
   "source": [
    "list(df.columns)"
   ]
  },
  {
   "cell_type": "code",
   "execution_count": 14,
   "metadata": {},
   "outputs": [],
   "source": [
    "ADP_by_FY = ['FY18 ADP',\n",
    "             'FY17 ADP',\n",
    "             'FY16 ADP',\n",
    "             'FY15 ADP',\n",
    "             'FY14 ADP',\n",
    "             'FY13 ADP',\n",
    "             'FY12 ADP',\n",
    "             'FY11 ADP',\n",
    "             'FY10 ADP',\n",
    "             'FY09 ADP']"
   ]
  },
  {
   "cell_type": "code",
   "execution_count": 15,
   "metadata": {},
   "outputs": [],
   "source": [
    "temp = df.groupby(['AOR'])[ADP_by_FY].sum()"
   ]
  },
  {
   "cell_type": "code",
   "execution_count": 16,
   "metadata": {},
   "outputs": [],
   "source": [
    "temp = temp[temp.columns.sort_values()]"
   ]
  },
  {
   "cell_type": "code",
   "execution_count": 17,
   "metadata": {},
   "outputs": [],
   "source": [
    "temp = temp.T"
   ]
  },
  {
   "cell_type": "code",
   "execution_count": 18,
   "metadata": {},
   "outputs": [],
   "source": [
    "temp.to_csv('../output/facility_adp_by_fy.csv')"
   ]
  },
  {
   "cell_type": "code",
   "execution_count": 21,
   "metadata": {},
   "outputs": [
    {
     "data": {
      "text/plain": [
       "<matplotlib.axes._subplots.AxesSubplot at 0x1043f1a20>"
      ]
     },
     "execution_count": 21,
     "metadata": {},
     "output_type": "execute_result"
    },
    {
     "data": {
      "image/png": "[encoded data removed]",
      "text/plain": [
       "<Figure size 432x288 with 1 Axes>"
      ]
     },
     "metadata": {
      "needs_background": "light"
     },
     "output_type": "display_data"
    }
   ],
   "source": [
    "temp.plot(stacked=True)"
   ]
  },
  {
   "cell_type": "code",
   "execution_count": 23,
   "metadata": {},
   "outputs": [
    {
     "data": {
      "image/png": "[encoded data removed]",
      "text/plain": [
       "<Figure size 432x288 with 1 Axes>"
      ]
     },
     "metadata": {
      "needs_background": "light"
     },
     "output_type": "display_data"
    }
   ],
   "source": [
    "plt.plot(temp)\n",
    "plt.xticks(rotation=90)\n",
    "plt.legend(temp, loc=5)\n",
    "plt.show();"
   ]
  },
  {
   "cell_type": "code",
   "execution_count": null,
   "metadata": {},
   "outputs": [],
   "source": []
  }
 ],
 "metadata": {
  "kernelspec": {
   "display_name": "Python 3",
   "language": "python",
   "name": "python3"
  },
  "language_info": {
   "codemirror_mode": {
    "name": "ipython",
    "version": 3
   },
   "file_extension": ".py",
   "mimetype": "text/x-python",
   "name": "python",
   "nbconvert_exporter": "python",
   "pygments_lexer": "ipython3",
   "version": "3.7.2"
  }
 },
 "nbformat": 4,
 "nbformat_minor": 2
}
