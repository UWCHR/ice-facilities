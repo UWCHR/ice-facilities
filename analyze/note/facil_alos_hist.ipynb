{
 "cells": [
  {
   "cell_type": "code",
   "execution_count": 1,
   "metadata": {},
   "outputs": [],
   "source": [
    "import pandas as pd\n",
    "import numpy as np\n",
    "import matplotlib.pyplot as plt\n",
    "import yaml"
   ]
  },
  {
   "cell_type": "code",
   "execution_count": 2,
   "metadata": {},
   "outputs": [],
   "source": [
    "read_csv_opts = {'sep': '|',\n",
    "                 'quotechar': '\"',\n",
    "                 'compression': 'gzip',\n",
    "                 'encoding': 'utf-8',\n",
    "                 'header': 8}"
   ]
  },
  {
   "cell_type": "code",
   "execution_count": 3,
   "metadata": {},
   "outputs": [],
   "source": [
    "df = pd.read_csv('../input/ICEFacilityListReport.csv.gz', **read_csv_opts)"
   ]
  },
  {
   "cell_type": "code",
   "execution_count": 4,
   "metadata": {},
   "outputs": [
    {
     "data": {
      "text/html": [
       "<div>\n",
       "<style scoped>\n",
       "    .dataframe tbody tr th:only-of-type {\n",
       "        vertical-align: middle;\n",
       "    }\n",
       "\n",
       "    .dataframe tbody tr th {\n",
       "        vertical-align: top;\n",
       "    }\n",
       "\n",
       "    .dataframe thead th {\n",
       "        text-align: right;\n",
       "    }\n",
       "</style>\n",
       "<table border=\"1\" class=\"dataframe\">\n",
       "  <thead>\n",
       "    <tr style=\"text-align: right;\">\n",
       "      <th></th>\n",
       "      <th>DETLOC</th>\n",
       "      <th>Name</th>\n",
       "      <th>Address</th>\n",
       "      <th>City</th>\n",
       "      <th>County</th>\n",
       "      <th>State</th>\n",
       "      <th>Zip</th>\n",
       "      <th>Circuit</th>\n",
       "      <th>AOR</th>\n",
       "      <th>Docket</th>\n",
       "      <th>...</th>\n",
       "      <th>DSM Assigned?</th>\n",
       "      <th>DSM Assignment Type</th>\n",
       "      <th>FY18 Calendar Days in Use</th>\n",
       "      <th>FY18 Possible Days</th>\n",
       "      <th>FY18 % of Days in Use</th>\n",
       "      <th>FY18 Total Mandays</th>\n",
       "      <th>FY17 Calendar Days in Use</th>\n",
       "      <th>FY17 % of Days in Use</th>\n",
       "      <th>FY17 Total Mandays</th>\n",
       "      <th>FY17 Max Pop Count</th>\n",
       "    </tr>\n",
       "  </thead>\n",
       "  <tbody>\n",
       "    <tr>\n",
       "      <th>0</th>\n",
       "      <td>ABRDNWA</td>\n",
       "      <td>ABERDEEN CITY JAIL</td>\n",
       "      <td>210 EAST MARKET ST</td>\n",
       "      <td>ABERDEEN</td>\n",
       "      <td>GRAYS HARBOR</td>\n",
       "      <td>WA</td>\n",
       "      <td>98520</td>\n",
       "      <td>9</td>\n",
       "      <td>SEA</td>\n",
       "      <td>SEA</td>\n",
       "      <td>...</td>\n",
       "      <td>No</td>\n",
       "      <td>NaN</td>\n",
       "      <td>0</td>\n",
       "      <td>400</td>\n",
       "      <td>0%</td>\n",
       "      <td>0</td>\n",
       "      <td>0</td>\n",
       "      <td>0%</td>\n",
       "      <td>0</td>\n",
       "      <td>0</td>\n",
       "    </tr>\n",
       "    <tr>\n",
       "      <th>1</th>\n",
       "      <td>ABTHOLD</td>\n",
       "      <td>ABILENE HOLD ROOM</td>\n",
       "      <td>12071 FM 3522</td>\n",
       "      <td>ABILENE</td>\n",
       "      <td>ABILENE</td>\n",
       "      <td>TX</td>\n",
       "      <td>79601</td>\n",
       "      <td>5</td>\n",
       "      <td>DAL</td>\n",
       "      <td>ABT</td>\n",
       "      <td>...</td>\n",
       "      <td>No</td>\n",
       "      <td>NaN</td>\n",
       "      <td>0</td>\n",
       "      <td>400</td>\n",
       "      <td>0%</td>\n",
       "      <td>0</td>\n",
       "      <td>0</td>\n",
       "      <td>0%</td>\n",
       "      <td>0</td>\n",
       "      <td>0</td>\n",
       "    </tr>\n",
       "    <tr>\n",
       "      <th>2</th>\n",
       "      <td>ABRXSPA</td>\n",
       "      <td>ABRAXAS ACADEMY DETENTION CENTER</td>\n",
       "      <td>1000 ACADEMY DRIVE</td>\n",
       "      <td>MORGANTOWN</td>\n",
       "      <td>BERKS</td>\n",
       "      <td>PA</td>\n",
       "      <td>19543</td>\n",
       "      <td>3</td>\n",
       "      <td>PHI</td>\n",
       "      <td>BRK</td>\n",
       "      <td>...</td>\n",
       "      <td>No</td>\n",
       "      <td>NaN</td>\n",
       "      <td>35</td>\n",
       "      <td>400</td>\n",
       "      <td>9%</td>\n",
       "      <td>800</td>\n",
       "      <td>372</td>\n",
       "      <td>102%</td>\n",
       "      <td>1,207</td>\n",
       "      <td>5</td>\n",
       "    </tr>\n",
       "    <tr>\n",
       "      <th>3</th>\n",
       "      <td>RICRANS</td>\n",
       "      <td>ACI (CRANSTON, RHODE ISLAND)</td>\n",
       "      <td>39 HOWARD AVE</td>\n",
       "      <td>CRANSTON</td>\n",
       "      <td>PROVIDENCE</td>\n",
       "      <td>RI</td>\n",
       "      <td>02920</td>\n",
       "      <td>1</td>\n",
       "      <td>BOS</td>\n",
       "      <td>BOS</td>\n",
       "      <td>...</td>\n",
       "      <td>No</td>\n",
       "      <td>NaN</td>\n",
       "      <td>0</td>\n",
       "      <td>400</td>\n",
       "      <td>0%</td>\n",
       "      <td>0</td>\n",
       "      <td>0</td>\n",
       "      <td>0%</td>\n",
       "      <td>0</td>\n",
       "      <td>0</td>\n",
       "    </tr>\n",
       "    <tr>\n",
       "      <th>4</th>\n",
       "      <td>ADACOID</td>\n",
       "      <td>ADA COUNTY JAIL</td>\n",
       "      <td>7210 BARRISTER DRIVE</td>\n",
       "      <td>BOISE</td>\n",
       "      <td>ADA</td>\n",
       "      <td>ID</td>\n",
       "      <td>83704</td>\n",
       "      <td>9</td>\n",
       "      <td>SLC</td>\n",
       "      <td>HEL</td>\n",
       "      <td>...</td>\n",
       "      <td>No</td>\n",
       "      <td>NaN</td>\n",
       "      <td>0</td>\n",
       "      <td>400</td>\n",
       "      <td>0%</td>\n",
       "      <td>0</td>\n",
       "      <td>0</td>\n",
       "      <td>0%</td>\n",
       "      <td>0</td>\n",
       "      <td>0</td>\n",
       "    </tr>\n",
       "  </tbody>\n",
       "</table>\n",
       "<p>5 rows × 135 columns</p>\n",
       "</div>"
      ],
      "text/plain": [
       "    DETLOC                              Name               Address  \\\n",
       "0  ABRDNWA                ABERDEEN CITY JAIL    210 EAST MARKET ST   \n",
       "1  ABTHOLD                 ABILENE HOLD ROOM         12071 FM 3522   \n",
       "2  ABRXSPA  ABRAXAS ACADEMY DETENTION CENTER    1000 ACADEMY DRIVE   \n",
       "3  RICRANS      ACI (CRANSTON, RHODE ISLAND)         39 HOWARD AVE   \n",
       "4  ADACOID                   ADA COUNTY JAIL  7210 BARRISTER DRIVE   \n",
       "\n",
       "         City         County State    Zip  Circuit  AOR Docket  \\\n",
       "0    ABERDEEN  GRAYS HARBOR     WA  98520        9  SEA    SEA   \n",
       "1     ABILENE        ABILENE    TX  79601        5  DAL    ABT   \n",
       "2  MORGANTOWN          BERKS    PA  19543        3  PHI    BRK   \n",
       "3    CRANSTON     PROVIDENCE    RI  02920        1  BOS    BOS   \n",
       "4       BOISE            ADA    ID  83704        9  SLC    HEL   \n",
       "\n",
       "         ...         DSM Assigned? DSM Assignment Type  \\\n",
       "0        ...                    No                 NaN   \n",
       "1        ...                    No                 NaN   \n",
       "2        ...                    No                 NaN   \n",
       "3        ...                    No                 NaN   \n",
       "4        ...                    No                 NaN   \n",
       "\n",
       "  FY18 Calendar Days in Use FY18 Possible Days FY18 % of Days in Use  \\\n",
       "0                         0                400                    0%   \n",
       "1                         0                400                    0%   \n",
       "2                        35                400                    9%   \n",
       "3                         0                400                    0%   \n",
       "4                         0                400                    0%   \n",
       "\n",
       "  FY18 Total Mandays FY17 Calendar Days in Use FY17 % of Days in Use  \\\n",
       "0                  0                         0                    0%   \n",
       "1                  0                         0                    0%   \n",
       "2                800                       372                  102%   \n",
       "3                  0                         0                    0%   \n",
       "4                  0                         0                    0%   \n",
       "\n",
       "  FY17 Total Mandays FY17 Max Pop Count  \n",
       "0                  0                  0  \n",
       "1                  0                  0  \n",
       "2              1,207                  5  \n",
       "3                  0                  0  \n",
       "4                  0                  0  \n",
       "\n",
       "[5 rows x 135 columns]"
      ]
     },
     "execution_count": 4,
     "metadata": {},
     "output_type": "execute_result"
    }
   ],
   "source": [
    "df.head()"
   ]
  },
  {
   "cell_type": "code",
   "execution_count": 5,
   "metadata": {},
   "outputs": [
    {
     "data": {
      "text/plain": [
       "Index(['DETLOC', 'Name', 'Address', 'City', 'County', 'State', 'Zip',\n",
       "       'Circuit', 'AOR', 'Docket',\n",
       "       ...\n",
       "       'DSM Assigned?', 'DSM Assignment Type', 'FY18 Calendar Days in Use',\n",
       "       'FY18 Possible Days', 'FY18 % of Days in Use', 'FY18 Total Mandays',\n",
       "       'FY17 Calendar Days in Use', 'FY17 % of Days in Use',\n",
       "       'FY17 Total Mandays', 'FY17 Max Pop Count'],\n",
       "      dtype='object', length=135)"
      ]
     },
     "execution_count": 5,
     "metadata": {},
     "output_type": "execute_result"
    }
   ],
   "source": [
    "df.columns"
   ]
  },
  {
   "cell_type": "code",
   "execution_count": 6,
   "metadata": {},
   "outputs": [],
   "source": [
    "levels_to_clean = ['ADP - Monthly',\n",
    "          'ADP: Criminality',\n",
    "          'ADP: Fiscal Year',\n",
    "          'ADP: Initial Bookins',\n",
    "          'Capacity',\n",
    "          'FY18 ADP: Criminality and Gender',\n",
    "          'FY18 ADP: Detainee Classification Level',\n",
    "          'FY18 ADP: ICE Threat Level',\n",
    "          'FY18 ADP: Mandatory Detention',\n",
    "          'Facility Average Length of Stay',\n",
    "          'Facility Bookins',\n",
    "          'Facility Information',\n",
    "          'Facility Statistics - FY 2017',\n",
    "          'Facility Statistics - FY 2018',\n",
    "          'Initial Bookins',\n",
    "          'Population']"
   ]
  },
  {
   "cell_type": "code",
   "execution_count": 7,
   "metadata": {},
   "outputs": [],
   "source": [
    "# # Need to check this doesn't cause issues, make smarter\n",
    "# for level in levels_to_clean:\n",
    "#     for col in df.loc[:, level]:\n",
    "#         try:\n",
    "#             df.loc[:, (level, col)] = df.loc[:, (level, col)].astype(str)\n",
    "#             df.loc[:, (level, col)] = df.loc[:, (level, col)].str.replace(',','')\n",
    "#             df.loc[:, (level, col)] = df.loc[:, (level, col)].str.replace('$','')\n",
    "#             df.loc[:, (level, col)] = df.loc[:, (level, col)].str.replace('%','')\n",
    "#             df.loc[:, (level, col)] = df.loc[:, (level, col)].astype(int)\n",
    "#         except ValueError:\n",
    "#             pass\n",
    "\n",
    "for col in df.columns:\n",
    "    try:\n",
    "        df.loc[:, col] = df.loc[:, col].astype(str)\n",
    "        df.loc[:, col] = df.loc[:, col].str.replace(',','')\n",
    "        df.loc[:, col] = df.loc[:, col].str.replace('$','')\n",
    "        df.loc[:, col] = df.loc[:, col].str.replace('%','')\n",
    "        df.loc[:, col] = df.loc[:, col].astype(int)\n",
    "    except ValueError:\n",
    "        pass"
   ]
  },
  {
   "cell_type": "code",
   "execution_count": 8,
   "metadata": {},
   "outputs": [],
   "source": [
    "# adp = []\n",
    "\n",
    "# for col in df.columns: adp.append('ADP' in col)"
   ]
  },
  {
   "cell_type": "code",
   "execution_count": 9,
   "metadata": {},
   "outputs": [],
   "source": [
    "alos = ['FY18 ALOS',\n",
    "        'FY17 ALOS',\n",
    "        'FY16 ALOS',\n",
    "        'FY15 ALOS']"
   ]
  },
  {
   "cell_type": "code",
   "execution_count": 29,
   "metadata": {},
   "outputs": [],
   "source": [
    "df.loc[:,alos] = df.loc[:,alos].astype(float)"
   ]
  },
  {
   "cell_type": "code",
   "execution_count": 32,
   "metadata": {},
   "outputs": [
    {
     "data": {
      "image/png": "[encoded data removed]",
      "text/plain": [
       "<Figure size 432x288 with 1 Axes>"
      ]
     },
     "metadata": {
      "needs_background": "light"
     },
     "output_type": "display_data"
    }
   ],
   "source": [
    "num_bins = np.arange(0,400,20)\n",
    "data = df['FY18 ALOS']\n",
    "# the histogram of the data\n",
    "n, bins, patches = plt.hist(data, num_bins, facecolor='blue', alpha=0.5)\n",
    " \n",
    "plt.plot()\n",
    "plt.xlabel('ALOS')\n",
    "plt.xticks(np.arange(0, 400, step=20), rotation=45)\n",
    "plt.ylabel('Facil Count')\n",
    "# plt.yticks(np.arange(0, 300, step=50))\n",
    "# plt.ylim(-5, 275)\n",
    "plt.title('FY18 ALOS')\n",
    " \n",
    "# Tweak spacing to prevent clipping of ylabel\n",
    "plt.subplots_adjust(left=0.15) \n",
    "# plt.savefig('output/nwdc_solitary_length_hist.png', bbox_inches='tight')\n",
    "plt.show()"
   ]
  },
  {
   "cell_type": "code",
   "execution_count": 30,
   "metadata": {},
   "outputs": [
    {
     "data": {
      "text/plain": [
       "0.0"
      ]
     },
     "execution_count": 30,
     "metadata": {},
     "output_type": "execute_result"
    }
   ],
   "source": [
    "df['FY18 ALOS'].min()"
   ]
  },
  {
   "cell_type": "code",
   "execution_count": 31,
   "metadata": {},
   "outputs": [
    {
     "data": {
      "text/plain": [
       "400.0"
      ]
     },
     "execution_count": 31,
     "metadata": {},
     "output_type": "execute_result"
    }
   ],
   "source": [
    "df['FY18 ALOS'].max()"
   ]
  },
  {
   "cell_type": "code",
   "execution_count": 36,
   "metadata": {},
   "outputs": [],
   "source": [
    "alos.reverse()"
   ]
  },
  {
   "cell_type": "code",
   "execution_count": 86,
   "metadata": {},
   "outputs": [
    {
     "data": {
      "image/png": "[encoded data removed]",
      "text/plain": [
       "<Figure size 720x576 with 4 Axes>"
      ]
     },
     "metadata": {
      "needs_background": "light"
     },
     "output_type": "display_data"
    }
   ],
   "source": [
    "target_facil = 'CSCNWWA'\n",
    "\n",
    "bin_min = 0\n",
    "bin_max = 400\n",
    "step = 30\n",
    "\n",
    "num_bins = np.arange(bin_min, bin_max, step)\n",
    "\n",
    "target_alos = df.set_index('DETLOC').loc[target_facil, alos]\n",
    "\n",
    "target_bins = np.digitize(list(target_alos.values), list(bins))\n",
    "\n",
    "fig = plt.figure(figsize=(10,8))\n",
    "i = 0\n",
    "for fy in alos:\n",
    "    ax=plt.subplot(2,2,i+1)\n",
    "    \n",
    "    data = df.set_index('DETLOC')[fy]\n",
    "    \n",
    "    n, bins, patches = plt.hist(data, num_bins, facecolor='blue', alpha=0.5)\n",
    "    \n",
    "    patches[target_bins[i]].set_fc('r')\n",
    " \n",
    "    plt.xlabel('ALOS')\n",
    "    plt.xticks(np.arange(bin_min, bin_max, step=step), rotation=45)\n",
    "    plt.ylabel('Facil Count')\n",
    "    plt.yticks(np.arange(0, 400, step=50))\n",
    "    plt.ylim(-5, 375)\n",
    "    plt.title(f'{fy}')\n",
    "\n",
    "    # Tweak spacing to prevent clipping of ylabel\n",
    "    plt.subplots_adjust(left=0.15) \n",
    "    i = i + 1\n",
    "    # plt.savefig('output/nwdc_solitary_length_hist.png', bbox_inches='tight')\n",
    "plt.suptitle(f'ALOS at ICE detention facilities, {target_facil} highlighted', fontsize=14)\n",
    "plt.subplots_adjust(wspace=.2, hspace=.4)\n",
    "plt.show()"
   ]
  },
  {
   "cell_type": "code",
   "execution_count": null,
   "metadata": {},
   "outputs": [],
   "source": []
  }
 ],
 "metadata": {
  "kernelspec": {
   "display_name": "Python 3",
   "language": "python",
   "name": "python3"
  },
  "language_info": {
   "codemirror_mode": {
    "name": "ipython",
    "version": 3
   },
   "file_extension": ".py",
   "mimetype": "text/x-python",
   "name": "python",
   "nbconvert_exporter": "python",
   "pygments_lexer": "ipython3",
   "version": "3.7.1"
  }
 },
 "nbformat": 4,
 "nbformat_minor": 2
}
