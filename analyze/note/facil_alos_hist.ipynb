{
 "cells": [
  {
   "cell_type": "code",
   "execution_count": 244,
   "metadata": {},
   "outputs": [],
   "source": [
    "import pandas as pd\n",
    "import numpy as np\n",
    "import matplotlib.pyplot as plt\n",
    "import yaml"
   ]
  },
  {
   "cell_type": "code",
   "execution_count": 245,
   "metadata": {},
   "outputs": [],
   "source": [
    "read_csv_opts = {'sep': '|',\n",
    "                 'quotechar': '\"',\n",
    "                 'compression': 'gzip',\n",
    "                 'encoding': 'utf-8',\n",
    "                 'header': 8}"
   ]
  },
  {
   "cell_type": "code",
   "execution_count": 246,
   "metadata": {},
   "outputs": [],
   "source": [
    "df = pd.read_csv('../input/ICEFacilityListReport.csv.gz', **read_csv_opts)"
   ]
  },
  {
   "cell_type": "code",
   "execution_count": 247,
   "metadata": {},
   "outputs": [
    {
     "data": {
      "text/html": [
       "<div>\n",
       "<style scoped>\n",
       "    .dataframe tbody tr th:only-of-type {\n",
       "        vertical-align: middle;\n",
       "    }\n",
       "\n",
       "    .dataframe tbody tr th {\n",
       "        vertical-align: top;\n",
       "    }\n",
       "\n",
       "    .dataframe thead th {\n",
       "        text-align: right;\n",
       "    }\n",
       "</style>\n",
       "<table border=\"1\" class=\"dataframe\">\n",
       "  <thead>\n",
       "    <tr style=\"text-align: right;\">\n",
       "      <th></th>\n",
       "      <th>DETLOC</th>\n",
       "      <th>Name</th>\n",
       "      <th>Address</th>\n",
       "      <th>City</th>\n",
       "      <th>County</th>\n",
       "      <th>State</th>\n",
       "      <th>Zip</th>\n",
       "      <th>Circuit</th>\n",
       "      <th>AOR</th>\n",
       "      <th>Docket</th>\n",
       "      <th>...</th>\n",
       "      <th>DSM Assigned?</th>\n",
       "      <th>DSM Assignment Type</th>\n",
       "      <th>FY18 Calendar Days in Use</th>\n",
       "      <th>FY18 Possible Days</th>\n",
       "      <th>FY18 % of Days in Use</th>\n",
       "      <th>FY18 Total Mandays</th>\n",
       "      <th>FY17 Calendar Days in Use</th>\n",
       "      <th>FY17 % of Days in Use</th>\n",
       "      <th>FY17 Total Mandays</th>\n",
       "      <th>FY17 Max Pop Count</th>\n",
       "    </tr>\n",
       "  </thead>\n",
       "  <tbody>\n",
       "    <tr>\n",
       "      <th>0</th>\n",
       "      <td>ABRDNWA</td>\n",
       "      <td>ABERDEEN CITY JAIL</td>\n",
       "      <td>210 EAST MARKET ST</td>\n",
       "      <td>ABERDEEN</td>\n",
       "      <td>GRAYS HARBOR</td>\n",
       "      <td>WA</td>\n",
       "      <td>98520</td>\n",
       "      <td>9</td>\n",
       "      <td>SEA</td>\n",
       "      <td>SEA</td>\n",
       "      <td>...</td>\n",
       "      <td>No</td>\n",
       "      <td>NaN</td>\n",
       "      <td>0</td>\n",
       "      <td>400</td>\n",
       "      <td>0%</td>\n",
       "      <td>0</td>\n",
       "      <td>0</td>\n",
       "      <td>0%</td>\n",
       "      <td>0</td>\n",
       "      <td>0</td>\n",
       "    </tr>\n",
       "    <tr>\n",
       "      <th>1</th>\n",
       "      <td>ABTHOLD</td>\n",
       "      <td>ABILENE HOLD ROOM</td>\n",
       "      <td>12071 FM 3522</td>\n",
       "      <td>ABILENE</td>\n",
       "      <td>ABILENE</td>\n",
       "      <td>TX</td>\n",
       "      <td>79601</td>\n",
       "      <td>5</td>\n",
       "      <td>DAL</td>\n",
       "      <td>ABT</td>\n",
       "      <td>...</td>\n",
       "      <td>No</td>\n",
       "      <td>NaN</td>\n",
       "      <td>0</td>\n",
       "      <td>400</td>\n",
       "      <td>0%</td>\n",
       "      <td>0</td>\n",
       "      <td>0</td>\n",
       "      <td>0%</td>\n",
       "      <td>0</td>\n",
       "      <td>0</td>\n",
       "    </tr>\n",
       "    <tr>\n",
       "      <th>2</th>\n",
       "      <td>ABRXSPA</td>\n",
       "      <td>ABRAXAS ACADEMY DETENTION CENTER</td>\n",
       "      <td>1000 ACADEMY DRIVE</td>\n",
       "      <td>MORGANTOWN</td>\n",
       "      <td>BERKS</td>\n",
       "      <td>PA</td>\n",
       "      <td>19543</td>\n",
       "      <td>3</td>\n",
       "      <td>PHI</td>\n",
       "      <td>BRK</td>\n",
       "      <td>...</td>\n",
       "      <td>No</td>\n",
       "      <td>NaN</td>\n",
       "      <td>35</td>\n",
       "      <td>400</td>\n",
       "      <td>9%</td>\n",
       "      <td>800</td>\n",
       "      <td>372</td>\n",
       "      <td>102%</td>\n",
       "      <td>1,207</td>\n",
       "      <td>5</td>\n",
       "    </tr>\n",
       "    <tr>\n",
       "      <th>3</th>\n",
       "      <td>RICRANS</td>\n",
       "      <td>ACI (CRANSTON, RHODE ISLAND)</td>\n",
       "      <td>39 HOWARD AVE</td>\n",
       "      <td>CRANSTON</td>\n",
       "      <td>PROVIDENCE</td>\n",
       "      <td>RI</td>\n",
       "      <td>02920</td>\n",
       "      <td>1</td>\n",
       "      <td>BOS</td>\n",
       "      <td>BOS</td>\n",
       "      <td>...</td>\n",
       "      <td>No</td>\n",
       "      <td>NaN</td>\n",
       "      <td>0</td>\n",
       "      <td>400</td>\n",
       "      <td>0%</td>\n",
       "      <td>0</td>\n",
       "      <td>0</td>\n",
       "      <td>0%</td>\n",
       "      <td>0</td>\n",
       "      <td>0</td>\n",
       "    </tr>\n",
       "    <tr>\n",
       "      <th>4</th>\n",
       "      <td>ADACOID</td>\n",
       "      <td>ADA COUNTY JAIL</td>\n",
       "      <td>7210 BARRISTER DRIVE</td>\n",
       "      <td>BOISE</td>\n",
       "      <td>ADA</td>\n",
       "      <td>ID</td>\n",
       "      <td>83704</td>\n",
       "      <td>9</td>\n",
       "      <td>SLC</td>\n",
       "      <td>HEL</td>\n",
       "      <td>...</td>\n",
       "      <td>No</td>\n",
       "      <td>NaN</td>\n",
       "      <td>0</td>\n",
       "      <td>400</td>\n",
       "      <td>0%</td>\n",
       "      <td>0</td>\n",
       "      <td>0</td>\n",
       "      <td>0%</td>\n",
       "      <td>0</td>\n",
       "      <td>0</td>\n",
       "    </tr>\n",
       "  </tbody>\n",
       "</table>\n",
       "<p>5 rows × 135 columns</p>\n",
       "</div>"
      ],
      "text/plain": [
       "    DETLOC                              Name               Address  \\\n",
       "0  ABRDNWA                ABERDEEN CITY JAIL    210 EAST MARKET ST   \n",
       "1  ABTHOLD                 ABILENE HOLD ROOM         12071 FM 3522   \n",
       "2  ABRXSPA  ABRAXAS ACADEMY DETENTION CENTER    1000 ACADEMY DRIVE   \n",
       "3  RICRANS      ACI (CRANSTON, RHODE ISLAND)         39 HOWARD AVE   \n",
       "4  ADACOID                   ADA COUNTY JAIL  7210 BARRISTER DRIVE   \n",
       "\n",
       "         City         County State    Zip  Circuit  AOR Docket  \\\n",
       "0    ABERDEEN  GRAYS HARBOR     WA  98520        9  SEA    SEA   \n",
       "1     ABILENE        ABILENE    TX  79601        5  DAL    ABT   \n",
       "2  MORGANTOWN          BERKS    PA  19543        3  PHI    BRK   \n",
       "3    CRANSTON     PROVIDENCE    RI  02920        1  BOS    BOS   \n",
       "4       BOISE            ADA    ID  83704        9  SLC    HEL   \n",
       "\n",
       "         ...         DSM Assigned? DSM Assignment Type  \\\n",
       "0        ...                    No                 NaN   \n",
       "1        ...                    No                 NaN   \n",
       "2        ...                    No                 NaN   \n",
       "3        ...                    No                 NaN   \n",
       "4        ...                    No                 NaN   \n",
       "\n",
       "  FY18 Calendar Days in Use FY18 Possible Days FY18 % of Days in Use  \\\n",
       "0                         0                400                    0%   \n",
       "1                         0                400                    0%   \n",
       "2                        35                400                    9%   \n",
       "3                         0                400                    0%   \n",
       "4                         0                400                    0%   \n",
       "\n",
       "  FY18 Total Mandays FY17 Calendar Days in Use FY17 % of Days in Use  \\\n",
       "0                  0                         0                    0%   \n",
       "1                  0                         0                    0%   \n",
       "2                800                       372                  102%   \n",
       "3                  0                         0                    0%   \n",
       "4                  0                         0                    0%   \n",
       "\n",
       "  FY17 Total Mandays FY17 Max Pop Count  \n",
       "0                  0                  0  \n",
       "1                  0                  0  \n",
       "2              1,207                  5  \n",
       "3                  0                  0  \n",
       "4                  0                  0  \n",
       "\n",
       "[5 rows x 135 columns]"
      ]
     },
     "execution_count": 247,
     "metadata": {},
     "output_type": "execute_result"
    }
   ],
   "source": [
    "df.head()"
   ]
  },
  {
   "cell_type": "code",
   "execution_count": 248,
   "metadata": {},
   "outputs": [
    {
     "data": {
      "text/plain": [
       "Index(['DETLOC', 'Name', 'Address', 'City', 'County', 'State', 'Zip',\n",
       "       'Circuit', 'AOR', 'Docket',\n",
       "       ...\n",
       "       'DSM Assigned?', 'DSM Assignment Type', 'FY18 Calendar Days in Use',\n",
       "       'FY18 Possible Days', 'FY18 % of Days in Use', 'FY18 Total Mandays',\n",
       "       'FY17 Calendar Days in Use', 'FY17 % of Days in Use',\n",
       "       'FY17 Total Mandays', 'FY17 Max Pop Count'],\n",
       "      dtype='object', length=135)"
      ]
     },
     "execution_count": 248,
     "metadata": {},
     "output_type": "execute_result"
    }
   ],
   "source": [
    "df.columns"
   ]
  },
  {
   "cell_type": "code",
   "execution_count": 249,
   "metadata": {},
   "outputs": [],
   "source": [
    "levels_to_clean = ['ADP - Monthly',\n",
    "          'ADP: Criminality',\n",
    "          'ADP: Fiscal Year',\n",
    "          'ADP: Initial Bookins',\n",
    "          'Capacity',\n",
    "          'FY18 ADP: Criminality and Gender',\n",
    "          'FY18 ADP: Detainee Classification Level',\n",
    "          'FY18 ADP: ICE Threat Level',\n",
    "          'FY18 ADP: Mandatory Detention',\n",
    "          'Facility Average Length of Stay',\n",
    "          'Facility Bookins',\n",
    "          'Facility Information',\n",
    "          'Facility Statistics - FY 2017',\n",
    "          'Facility Statistics - FY 2018',\n",
    "          'Initial Bookins',\n",
    "          'Population']"
   ]
  },
  {
   "cell_type": "code",
   "execution_count": 250,
   "metadata": {},
   "outputs": [],
   "source": [
    "# # Need to check this doesn't cause issues, make smarter\n",
    "# for level in levels_to_clean:\n",
    "#     for col in df.loc[:, level]:\n",
    "#         try:\n",
    "#             df.loc[:, (level, col)] = df.loc[:, (level, col)].astype(str)\n",
    "#             df.loc[:, (level, col)] = df.loc[:, (level, col)].str.replace(',','')\n",
    "#             df.loc[:, (level, col)] = df.loc[:, (level, col)].str.replace('$','')\n",
    "#             df.loc[:, (level, col)] = df.loc[:, (level, col)].str.replace('%','')\n",
    "#             df.loc[:, (level, col)] = df.loc[:, (level, col)].astype(int)\n",
    "#         except ValueError:\n",
    "#             pass\n",
    "\n",
    "for col in df.columns:\n",
    "    try:\n",
    "        df.loc[:, col] = df.loc[:, col].astype(str)\n",
    "        df.loc[:, col] = df.loc[:, col].str.replace(',','')\n",
    "        df.loc[:, col] = df.loc[:, col].str.replace('$','')\n",
    "        df.loc[:, col] = df.loc[:, col].str.replace('%','')\n",
    "        df.loc[:, col] = df.loc[:, col].astype(int)\n",
    "    except ValueError:\n",
    "        pass"
   ]
  },
  {
   "cell_type": "code",
   "execution_count": 251,
   "metadata": {},
   "outputs": [],
   "source": [
    "# adp = []\n",
    "\n",
    "# for col in df.columns: adp.append('ADP' in col)"
   ]
  },
  {
   "cell_type": "code",
   "execution_count": 252,
   "metadata": {},
   "outputs": [],
   "source": [
    "alos = ['FY18 ALOS',\n",
    "        'FY17 ALOS',\n",
    "        'FY16 ALOS',\n",
    "        'FY15 ALOS']\n",
    "\n",
    "adp = ['FY18 ADP',\n",
    "       'FY17 ADP',\n",
    "       'FY16 ADP',\n",
    "       'FY15 ADP']"
   ]
  },
  {
   "cell_type": "code",
   "execution_count": 253,
   "metadata": {},
   "outputs": [],
   "source": [
    "df.loc[:,alos] = df.loc[:,alos].astype(float)"
   ]
  },
  {
   "cell_type": "code",
   "execution_count": 254,
   "metadata": {},
   "outputs": [
    {
     "data": {
      "image/png": "[encoded data removed]",
      "text/plain": [
       "<Figure size 432x288 with 1 Axes>"
      ]
     },
     "metadata": {
      "needs_background": "light"
     },
     "output_type": "display_data"
    }
   ],
   "source": [
    "num_bins = np.arange(0,400,20)\n",
    "data = df['FY18 ALOS']\n",
    "# the histogram of the data\n",
    "n, bins, patches = plt.hist(data, num_bins, facecolor='blue', alpha=0.5)\n",
    " \n",
    "plt.plot()\n",
    "plt.xlabel('ALOS')\n",
    "plt.xticks(np.arange(0, 400, step=20), rotation=45)\n",
    "plt.ylabel('Facil Count')\n",
    "# plt.yticks(np.arange(0, 300, step=50))\n",
    "# plt.ylim(-5, 275)\n",
    "plt.title('FY18 ALOS')\n",
    " \n",
    "# Tweak spacing to prevent clipping of ylabel\n",
    "plt.subplots_adjust(left=0.15) \n",
    "# plt.savefig('output/nwdc_solitary_length_hist.png', bbox_inches='tight')\n",
    "plt.show()"
   ]
  },
  {
   "cell_type": "code",
   "execution_count": 255,
   "metadata": {},
   "outputs": [
    {
     "data": {
      "text/plain": [
       "0.0"
      ]
     },
     "execution_count": 255,
     "metadata": {},
     "output_type": "execute_result"
    }
   ],
   "source": [
    "df['FY18 ALOS'].min()"
   ]
  },
  {
   "cell_type": "code",
   "execution_count": 256,
   "metadata": {},
   "outputs": [
    {
     "data": {
      "text/plain": [
       "400.0"
      ]
     },
     "execution_count": 256,
     "metadata": {},
     "output_type": "execute_result"
    }
   ],
   "source": [
    "df['FY18 ALOS'].max()"
   ]
  },
  {
   "cell_type": "code",
   "execution_count": 257,
   "metadata": {},
   "outputs": [],
   "source": [
    "alos.reverse()"
   ]
  },
  {
   "cell_type": "code",
   "execution_count": 258,
   "metadata": {},
   "outputs": [],
   "source": [
    "adp.reverse()"
   ]
  },
  {
   "cell_type": "code",
   "execution_count": 259,
   "metadata": {},
   "outputs": [],
   "source": [
    "target_facil = 'CSCNWWA'\n",
    "target_facil_2 = 'ADLNTCA'"
   ]
  },
  {
   "cell_type": "code",
   "execution_count": 260,
   "metadata": {
    "scrolled": false
   },
   "outputs": [
    {
     "data": {
      "image/png": "[encoded data removed]",
      "text/plain": [
       "<Figure size 720x576 with 4 Axes>"
      ]
     },
     "metadata": {
      "needs_background": "light"
     },
     "output_type": "display_data"
    }
   ],
   "source": [
    "bin_min = 0\n",
    "bin_max = 400\n",
    "step = 30\n",
    "\n",
    "num_bins = np.arange(bin_min, bin_max, step)\n",
    "\n",
    "target_alos = df.set_index('DETLOC').loc[target_facil, alos]\n",
    "\n",
    "target_bins = np.digitize(list(target_alos.values), list(bins))\n",
    "\n",
    "fig = plt.figure(figsize=(10,8))\n",
    "i = 0\n",
    "for fy in alos:\n",
    "    ax=plt.subplot(2,2,i+1)\n",
    "    \n",
    "    data = df.set_index('DETLOC')[fy]\n",
    "    \n",
    "    n, bins, patches = plt.hist(data, num_bins, facecolor='blue', alpha=0.5)\n",
    "    \n",
    "    patches[target_bins[i]].set_fc('r')\n",
    " \n",
    "    plt.xlabel('ALOS')\n",
    "    plt.xticks(np.arange(bin_min, bin_max, step=step), rotation=45)\n",
    "    plt.ylabel('Facil Count')\n",
    "    plt.yticks(np.arange(0, 400, step=50))\n",
    "    plt.ylim(-5, 375)\n",
    "    plt.title(f'{fy}')\n",
    "\n",
    "    # Tweak spacing to prevent clipping of ylabel\n",
    "    plt.subplots_adjust(left=0.15) \n",
    "    i = i + 1\n",
    "    # plt.savefig('output/nwdc_solitary_length_hist.png', bbox_inches='tight')\n",
    "plt.suptitle(f'ALOS at ICE detention facilities, {target_facil} highlighted', fontsize=14)\n",
    "plt.subplots_adjust(wspace=.2, hspace=.4)\n",
    "plt.show()"
   ]
  },
  {
   "cell_type": "code",
   "execution_count": 261,
   "metadata": {},
   "outputs": [
    {
     "data": {
      "text/plain": [
       "<matplotlib.collections.PathCollection at 0x119990fd0>"
      ]
     },
     "execution_count": 261,
     "metadata": {},
     "output_type": "execute_result"
    },
    {
     "data": {
      "image/png": "[encoded data removed]",
      "text/plain": [
       "<Figure size 432x288 with 1 Axes>"
      ]
     },
     "metadata": {
      "needs_background": "light"
     },
     "output_type": "display_data"
    }
   ],
   "source": [
    "plt.scatter(x='FY18 ALOS', y='FY18 ADP', data=df)"
   ]
  },
  {
   "cell_type": "code",
   "execution_count": 262,
   "metadata": {},
   "outputs": [],
   "source": [
    "fys = ['FY15',\n",
    "       'FY16',\n",
    "       'FY17',\n",
    "       'FY18']"
   ]
  },
  {
   "cell_type": "code",
   "execution_count": 263,
   "metadata": {},
   "outputs": [],
   "source": [
    "# Exclude outliers (definitely a better way to do this)\n",
    "data = df[df.loc[:,'FY15 ALOS'] < 500]\n",
    "data = data[data.loc[:,'FY16 ALOS'] < 500]\n",
    "data = data[data.loc[:,'FY17 ALOS'] < 500]\n",
    "data = data[data.loc[:,'FY18 ALOS'] < 500]"
   ]
  },
  {
   "cell_type": "code",
   "execution_count": 264,
   "metadata": {},
   "outputs": [
    {
     "data": {
      "image/png": "[encoded data removed]",
      "text/plain": [
       "<Figure size 720x576 with 4 Axes>"
      ]
     },
     "metadata": {
      "needs_background": "light"
     },
     "output_type": "display_data"
    }
   ],
   "source": [
    "fig = plt.figure(figsize=(10,8))\n",
    "i = 0\n",
    "for fy in fys:\n",
    "    adp_col = f'{fy} ADP'\n",
    "    alos_col = f'{fy} ALOS'\n",
    "    ax=plt.subplot(2,2,i+1)\n",
    "    i = i+1\n",
    "    \n",
    "    plt.scatter(x=alos_col, y=adp_col, data=data)\n",
    "    plt.scatter(x=alos_col, y=adp_col, c='r', data=data.set_index('DETLOC').loc[target_facil])\n",
    "    \n",
    "    plt.xlabel('ALOS')\n",
    "    plt.xticks(np.arange(0, 450, step=50), rotation=45)\n",
    "    plt.ylabel('ADP')\n",
    "    plt.yticks(np.arange(0, 2001, step=200))\n",
    "    plt.ylim(-100, 2000)\n",
    "    plt.title(f'{fy}')\n",
    "\n",
    "plt.suptitle(f'ICE facilities by ADP, ALOS; {target_facil} highlighted', fontsize=14)\n",
    "plt.subplots_adjust(wspace=.4, hspace=.4)\n",
    "plt.show;"
   ]
  },
  {
   "cell_type": "code",
   "execution_count": null,
   "metadata": {},
   "outputs": [],
   "source": []
  },
  {
   "cell_type": "code",
   "execution_count": 265,
   "metadata": {},
   "outputs": [],
   "source": [
    "solitary = pd.read_csv('../input/solitary_stats.csv', sep='|')"
   ]
  },
  {
   "cell_type": "code",
   "execution_count": 266,
   "metadata": {},
   "outputs": [],
   "source": [
    "solitary = solitary.set_index('Unnamed: 0')"
   ]
  },
  {
   "cell_type": "code",
   "execution_count": 267,
   "metadata": {},
   "outputs": [],
   "source": [
    "solitary.index.name = 'DETLOC'"
   ]
  },
  {
   "cell_type": "code",
   "execution_count": 268,
   "metadata": {},
   "outputs": [],
   "source": [
    "sol_cols = list(solitary.columns)"
   ]
  },
  {
   "cell_type": "code",
   "execution_count": 269,
   "metadata": {},
   "outputs": [],
   "source": [
    "solitary = solitary.dropna(how='all', axis=0)"
   ]
  },
  {
   "cell_type": "code",
   "execution_count": 270,
   "metadata": {},
   "outputs": [],
   "source": [
    "sol_index = list(solitary.index)"
   ]
  },
  {
   "cell_type": "code",
   "execution_count": 271,
   "metadata": {},
   "outputs": [],
   "source": [
    "data = data.set_index('DETLOC').join(solitary)"
   ]
  },
  {
   "cell_type": "code",
   "execution_count": 272,
   "metadata": {},
   "outputs": [
    {
     "name": "stderr",
     "output_type": "stream",
     "text": [
      "/Users/philneff/anaconda3/lib/python3.7/site-packages/ipykernel_launcher.py:1: FutureWarning: \n",
      "Passing list-likes to .loc or [] with any missing label will raise\n",
      "KeyError in the future, you can use .reindex() as an alternative.\n",
      "\n",
      "See the documentation here:\n",
      "https://pandas.pydata.org/pandas-docs/stable/indexing.html#deprecate-loc-reindex-listlike\n",
      "  \"\"\"Entry point for launching an IPython kernel.\n"
     ]
    }
   ],
   "source": [
    "data = data.loc[sol_index]"
   ]
  },
  {
   "cell_type": "code",
   "execution_count": 273,
   "metadata": {},
   "outputs": [],
   "source": [
    "fys = [\n",
    "       'FY16',\n",
    "       'FY17',\n",
    "       'FY18']"
   ]
  },
  {
   "cell_type": "code",
   "execution_count": 274,
   "metadata": {},
   "outputs": [
    {
     "name": "stdout",
     "output_type": "stream",
     "text": [
      "<class 'pandas.core.frame.DataFrame'>\n",
      "Index: 88 entries, ADLNTCA to YUBAJCA\n",
      "Data columns (total 7 columns):\n",
      "FY16 solitary ALOS     60 non-null float64\n",
      "FY17 solitary ALOS     70 non-null float64\n",
      "FY18 solitary ALOS     64 non-null float64\n",
      "FY16 solitary count    84 non-null float64\n",
      "FY17 solitary count    84 non-null float64\n",
      "FY18 solitary count    84 non-null float64\n",
      "FY17_solitary_ADP      84 non-null float64\n",
      "dtypes: float64(7)\n",
      "memory usage: 5.5+ KB\n"
     ]
    }
   ],
   "source": [
    "data[sol_cols].info()"
   ]
  },
  {
   "cell_type": "code",
   "execution_count": 275,
   "metadata": {},
   "outputs": [],
   "source": [
    "data.loc[:,sol_cols] = data.loc[:,sol_cols].fillna(0)"
   ]
  },
  {
   "cell_type": "code",
   "execution_count": 276,
   "metadata": {},
   "outputs": [],
   "source": [
    "data.loc[:,adp] = data.loc[:,adp].fillna(0)\n",
    "data.loc[:,alos] = data.loc[:,alos].fillna(0)"
   ]
  },
  {
   "cell_type": "code",
   "execution_count": 277,
   "metadata": {},
   "outputs": [
    {
     "name": "stderr",
     "output_type": "stream",
     "text": [
      "/Users/philneff/anaconda3/lib/python3.7/site-packages/ipykernel_launcher.py:1: RuntimeWarning: divide by zero encountered in log\n",
      "  \"\"\"Entry point for launching an IPython kernel.\n"
     ]
    },
    {
     "data": {
      "text/html": [
       "<div>\n",
       "<style scoped>\n",
       "    .dataframe tbody tr th:only-of-type {\n",
       "        vertical-align: middle;\n",
       "    }\n",
       "\n",
       "    .dataframe tbody tr th {\n",
       "        vertical-align: top;\n",
       "    }\n",
       "\n",
       "    .dataframe thead th {\n",
       "        text-align: right;\n",
       "    }\n",
       "</style>\n",
       "<table border=\"1\" class=\"dataframe\">\n",
       "  <thead>\n",
       "    <tr style=\"text-align: right;\">\n",
       "      <th></th>\n",
       "      <th>FY15 ALOS</th>\n",
       "      <th>FY16 ALOS</th>\n",
       "      <th>FY17 ALOS</th>\n",
       "      <th>FY18 ALOS</th>\n",
       "    </tr>\n",
       "    <tr>\n",
       "      <th>DETLOC</th>\n",
       "      <th></th>\n",
       "      <th></th>\n",
       "      <th></th>\n",
       "      <th></th>\n",
       "    </tr>\n",
       "  </thead>\n",
       "  <tbody>\n",
       "    <tr>\n",
       "      <th>ADLNTCA</th>\n",
       "      <td>3.951244</td>\n",
       "      <td>3.931826</td>\n",
       "      <td>4.262680</td>\n",
       "      <td>4.248495</td>\n",
       "    </tr>\n",
       "    <tr>\n",
       "      <th>ATLANGA</th>\n",
       "      <td>2.397895</td>\n",
       "      <td>3.401197</td>\n",
       "      <td>3.555348</td>\n",
       "      <td>3.555348</td>\n",
       "    </tr>\n",
       "    <tr>\n",
       "      <th>BAKERFL</th>\n",
       "      <td>4.077537</td>\n",
       "      <td>3.970292</td>\n",
       "      <td>3.891820</td>\n",
       "      <td>4.204693</td>\n",
       "    </tr>\n",
       "    <tr>\n",
       "      <th>BERGENJ</th>\n",
       "      <td>4.595120</td>\n",
       "      <td>4.615121</td>\n",
       "      <td>4.521789</td>\n",
       "      <td>4.488636</td>\n",
       "    </tr>\n",
       "    <tr>\n",
       "      <th>BOONEKY</th>\n",
       "      <td>3.610918</td>\n",
       "      <td>3.663562</td>\n",
       "      <td>3.610918</td>\n",
       "      <td>4.060443</td>\n",
       "    </tr>\n",
       "    <tr>\n",
       "      <th>BOPHON</th>\n",
       "      <td>3.988984</td>\n",
       "      <td>3.931826</td>\n",
       "      <td>3.761200</td>\n",
       "      <td>1.386294</td>\n",
       "    </tr>\n",
       "    <tr>\n",
       "      <th>BRINDMA</th>\n",
       "      <td>4.204693</td>\n",
       "      <td>4.174387</td>\n",
       "      <td>4.234107</td>\n",
       "      <td>4.795791</td>\n",
       "    </tr>\n",
       "    <tr>\n",
       "      <th>BTV</th>\n",
       "      <td>4.143135</td>\n",
       "      <td>4.343805</td>\n",
       "      <td>4.330733</td>\n",
       "      <td>4.744932</td>\n",
       "    </tr>\n",
       "    <tr>\n",
       "      <th>BUTLEKS</th>\n",
       "      <td>2.995732</td>\n",
       "      <td>2.833213</td>\n",
       "      <td>3.367296</td>\n",
       "      <td>2.772589</td>\n",
       "    </tr>\n",
       "    <tr>\n",
       "      <th>BUTLEOH</th>\n",
       "      <td>3.583519</td>\n",
       "      <td>3.737670</td>\n",
       "      <td>3.761200</td>\n",
       "      <td>3.583519</td>\n",
       "    </tr>\n",
       "    <tr>\n",
       "      <th>CACFMES</th>\n",
       "      <td>3.555348</td>\n",
       "      <td>4.094345</td>\n",
       "      <td>3.555348</td>\n",
       "      <td>4.454347</td>\n",
       "    </tr>\n",
       "    <tr>\n",
       "      <th>CALHOMI</th>\n",
       "      <td>3.737670</td>\n",
       "      <td>4.025352</td>\n",
       "      <td>3.912023</td>\n",
       "      <td>4.234107</td>\n",
       "    </tr>\n",
       "    <tr>\n",
       "      <th>CAMBRPA</th>\n",
       "      <td>-inf</td>\n",
       "      <td>-inf</td>\n",
       "      <td>-inf</td>\n",
       "      <td>-inf</td>\n",
       "    </tr>\n",
       "    <tr>\n",
       "      <th>CARJAMN</th>\n",
       "      <td>4.189655</td>\n",
       "      <td>3.828641</td>\n",
       "      <td>3.784190</td>\n",
       "      <td>3.583519</td>\n",
       "    </tr>\n",
       "    <tr>\n",
       "      <th>CASCAMT</th>\n",
       "      <td>1.945910</td>\n",
       "      <td>2.197225</td>\n",
       "      <td>1.945910</td>\n",
       "      <td>1.791759</td>\n",
       "    </tr>\n",
       "    <tr>\n",
       "      <th>CCAFLAZ</th>\n",
       "      <td>3.465736</td>\n",
       "      <td>3.663562</td>\n",
       "      <td>3.988984</td>\n",
       "      <td>4.127134</td>\n",
       "    </tr>\n",
       "    <tr>\n",
       "      <th>CCASDCA</th>\n",
       "      <td>3.218876</td>\n",
       "      <td>3.044522</td>\n",
       "      <td>3.583519</td>\n",
       "      <td>2.484907</td>\n",
       "    </tr>\n",
       "    <tr>\n",
       "      <th>CHARLSC</th>\n",
       "      <td>1.098612</td>\n",
       "      <td>1.098612</td>\n",
       "      <td>2.397895</td>\n",
       "      <td>2.197225</td>\n",
       "    </tr>\n",
       "    <tr>\n",
       "      <th>CHASEKS</th>\n",
       "      <td>3.526361</td>\n",
       "      <td>3.526361</td>\n",
       "      <td>3.583519</td>\n",
       "      <td>4.553877</td>\n",
       "    </tr>\n",
       "    <tr>\n",
       "      <th>CHIPPMI</th>\n",
       "      <td>4.418841</td>\n",
       "      <td>4.465908</td>\n",
       "      <td>4.110874</td>\n",
       "      <td>4.934474</td>\n",
       "    </tr>\n",
       "    <tr>\n",
       "      <th>CHRISMO</th>\n",
       "      <td>3.465736</td>\n",
       "      <td>3.761200</td>\n",
       "      <td>3.496508</td>\n",
       "      <td>0.693147</td>\n",
       "    </tr>\n",
       "    <tr>\n",
       "      <th>CLINTPA</th>\n",
       "      <td>1.609438</td>\n",
       "      <td>1.609438</td>\n",
       "      <td>2.890372</td>\n",
       "      <td>3.135494</td>\n",
       "    </tr>\n",
       "    <tr>\n",
       "      <th>CSCNWWA</th>\n",
       "      <td>4.406719</td>\n",
       "      <td>4.454347</td>\n",
       "      <td>4.465908</td>\n",
       "      <td>4.574711</td>\n",
       "    </tr>\n",
       "    <tr>\n",
       "      <th>DENICDF</th>\n",
       "      <td>3.828641</td>\n",
       "      <td>3.891820</td>\n",
       "      <td>3.931826</td>\n",
       "      <td>4.595120</td>\n",
       "    </tr>\n",
       "    <tr>\n",
       "      <th>DODGEWI</th>\n",
       "      <td>3.258097</td>\n",
       "      <td>3.135494</td>\n",
       "      <td>3.332205</td>\n",
       "      <td>3.401197</td>\n",
       "    </tr>\n",
       "    <tr>\n",
       "      <th>EAZ</th>\n",
       "      <td>4.248495</td>\n",
       "      <td>4.418841</td>\n",
       "      <td>4.317488</td>\n",
       "      <td>4.663439</td>\n",
       "    </tr>\n",
       "    <tr>\n",
       "      <th>ELMORID</th>\n",
       "      <td>2.079442</td>\n",
       "      <td>1.945910</td>\n",
       "      <td>1.609438</td>\n",
       "      <td>1.791759</td>\n",
       "    </tr>\n",
       "    <tr>\n",
       "      <th>ELZICDF</th>\n",
       "      <td>3.688879</td>\n",
       "      <td>4.043051</td>\n",
       "      <td>4.007333</td>\n",
       "      <td>4.753590</td>\n",
       "    </tr>\n",
       "    <tr>\n",
       "      <th>EPC</th>\n",
       "      <td>2.890372</td>\n",
       "      <td>2.833213</td>\n",
       "      <td>2.833213</td>\n",
       "      <td>2.484907</td>\n",
       "    </tr>\n",
       "    <tr>\n",
       "      <th>ESSEXNJ</th>\n",
       "      <td>4.454347</td>\n",
       "      <td>4.663439</td>\n",
       "      <td>4.595120</td>\n",
       "      <td>4.564348</td>\n",
       "    </tr>\n",
       "    <tr>\n",
       "      <th>...</th>\n",
       "      <td>...</td>\n",
       "      <td>...</td>\n",
       "      <td>...</td>\n",
       "      <td>...</td>\n",
       "    </tr>\n",
       "    <tr>\n",
       "      <th>OTRPCNM</th>\n",
       "      <td>2.890372</td>\n",
       "      <td>2.772589</td>\n",
       "      <td>2.772589</td>\n",
       "      <td>2.833213</td>\n",
       "    </tr>\n",
       "    <tr>\n",
       "      <th>PIC</th>\n",
       "      <td>1.609438</td>\n",
       "      <td>1.791759</td>\n",
       "      <td>2.079442</td>\n",
       "      <td>2.564949</td>\n",
       "    </tr>\n",
       "    <tr>\n",
       "      <th>PIKCOPA</th>\n",
       "      <td>4.060443</td>\n",
       "      <td>4.290459</td>\n",
       "      <td>4.454347</td>\n",
       "      <td>4.532599</td>\n",
       "    </tr>\n",
       "    <tr>\n",
       "      <th>PINEPLA</th>\n",
       "      <td>-inf</td>\n",
       "      <td>-inf</td>\n",
       "      <td>-inf</td>\n",
       "      <td>-inf</td>\n",
       "    </tr>\n",
       "    <tr>\n",
       "      <th>PLYMOMA</th>\n",
       "      <td>4.290459</td>\n",
       "      <td>4.234107</td>\n",
       "      <td>4.110874</td>\n",
       "      <td>4.127134</td>\n",
       "    </tr>\n",
       "    <tr>\n",
       "      <th>POLKCTX</th>\n",
       "      <td>3.583519</td>\n",
       "      <td>3.688879</td>\n",
       "      <td>3.784190</td>\n",
       "      <td>3.044522</td>\n",
       "    </tr>\n",
       "    <tr>\n",
       "      <th>POLKJIA</th>\n",
       "      <td>2.197225</td>\n",
       "      <td>2.397895</td>\n",
       "      <td>2.995732</td>\n",
       "      <td>2.995732</td>\n",
       "    </tr>\n",
       "    <tr>\n",
       "      <th>POTTAIA</th>\n",
       "      <td>3.850148</td>\n",
       "      <td>4.007333</td>\n",
       "      <td>4.174387</td>\n",
       "      <td>4.343805</td>\n",
       "    </tr>\n",
       "    <tr>\n",
       "      <th>PULASIL</th>\n",
       "      <td>-inf</td>\n",
       "      <td>-inf</td>\n",
       "      <td>-inf</td>\n",
       "      <td>-inf</td>\n",
       "    </tr>\n",
       "    <tr>\n",
       "      <th>RGRNDTX</th>\n",
       "      <td>2.484907</td>\n",
       "      <td>2.484907</td>\n",
       "      <td>2.772589</td>\n",
       "      <td>3.332205</td>\n",
       "    </tr>\n",
       "    <tr>\n",
       "      <th>RIOCCCA</th>\n",
       "      <td>3.496508</td>\n",
       "      <td>3.970292</td>\n",
       "      <td>3.737670</td>\n",
       "      <td>3.850148</td>\n",
       "    </tr>\n",
       "    <tr>\n",
       "      <th>SACITCA</th>\n",
       "      <td>3.044522</td>\n",
       "      <td>3.218876</td>\n",
       "      <td>3.367296</td>\n",
       "      <td>3.761200</td>\n",
       "    </tr>\n",
       "    <tr>\n",
       "      <th>SENECOH</th>\n",
       "      <td>3.258097</td>\n",
       "      <td>3.637586</td>\n",
       "      <td>3.610918</td>\n",
       "      <td>4.927254</td>\n",
       "    </tr>\n",
       "    <tr>\n",
       "      <th>SHERBMN</th>\n",
       "      <td>3.688879</td>\n",
       "      <td>3.850148</td>\n",
       "      <td>3.912023</td>\n",
       "      <td>4.564348</td>\n",
       "    </tr>\n",
       "    <tr>\n",
       "      <th>STCDFTX</th>\n",
       "      <td>3.583519</td>\n",
       "      <td>3.713572</td>\n",
       "      <td>3.806662</td>\n",
       "      <td>3.401197</td>\n",
       "    </tr>\n",
       "    <tr>\n",
       "      <th>STCLAMI</th>\n",
       "      <td>3.465736</td>\n",
       "      <td>3.737670</td>\n",
       "      <td>3.737670</td>\n",
       "      <td>4.330733</td>\n",
       "    </tr>\n",
       "    <tr>\n",
       "      <th>STWRTGA</th>\n",
       "      <td>3.912023</td>\n",
       "      <td>4.158883</td>\n",
       "      <td>4.158883</td>\n",
       "      <td>4.406719</td>\n",
       "    </tr>\n",
       "    <tr>\n",
       "      <th>SUFFOMA</th>\n",
       "      <td>3.610918</td>\n",
       "      <td>3.688879</td>\n",
       "      <td>3.526361</td>\n",
       "      <td>3.688879</td>\n",
       "    </tr>\n",
       "    <tr>\n",
       "      <th>TLACYCA</th>\n",
       "      <td>2.995732</td>\n",
       "      <td>3.295837</td>\n",
       "      <td>3.178054</td>\n",
       "      <td>3.091042</td>\n",
       "    </tr>\n",
       "    <tr>\n",
       "      <th>TOORANM</th>\n",
       "      <td>2.079442</td>\n",
       "      <td>2.302585</td>\n",
       "      <td>3.178054</td>\n",
       "      <td>3.610918</td>\n",
       "    </tr>\n",
       "    <tr>\n",
       "      <th>TULCOOK</th>\n",
       "      <td>3.135494</td>\n",
       "      <td>3.258097</td>\n",
       "      <td>3.044522</td>\n",
       "      <td>3.891820</td>\n",
       "    </tr>\n",
       "    <tr>\n",
       "      <th>UTAHCUT</th>\n",
       "      <td>3.610918</td>\n",
       "      <td>3.784190</td>\n",
       "      <td>3.583519</td>\n",
       "      <td>3.433987</td>\n",
       "    </tr>\n",
       "    <tr>\n",
       "      <th>VPREGVA</th>\n",
       "      <td>3.218876</td>\n",
       "      <td>4.234107</td>\n",
       "      <td>4.094345</td>\n",
       "      <td>4.158883</td>\n",
       "    </tr>\n",
       "    <tr>\n",
       "      <th>WAKULFL</th>\n",
       "      <td>3.871201</td>\n",
       "      <td>3.806662</td>\n",
       "      <td>3.784190</td>\n",
       "      <td>3.401197</td>\n",
       "    </tr>\n",
       "    <tr>\n",
       "      <th>WASHCUT</th>\n",
       "      <td>2.833213</td>\n",
       "      <td>2.484907</td>\n",
       "      <td>2.639057</td>\n",
       "      <td>2.397895</td>\n",
       "    </tr>\n",
       "    <tr>\n",
       "      <th>WORCEMD</th>\n",
       "      <td>4.330733</td>\n",
       "      <td>4.343805</td>\n",
       "      <td>4.219508</td>\n",
       "      <td>4.682131</td>\n",
       "    </tr>\n",
       "    <tr>\n",
       "      <th>WTXDFTX</th>\n",
       "      <td>1.386294</td>\n",
       "      <td>2.079442</td>\n",
       "      <td>2.397895</td>\n",
       "      <td>2.564949</td>\n",
       "    </tr>\n",
       "    <tr>\n",
       "      <th>WVSCENT</th>\n",
       "      <td>1.386294</td>\n",
       "      <td>1.791759</td>\n",
       "      <td>1.791759</td>\n",
       "      <td>1.609438</td>\n",
       "    </tr>\n",
       "    <tr>\n",
       "      <th>YORCOPA</th>\n",
       "      <td>3.806662</td>\n",
       "      <td>3.871201</td>\n",
       "      <td>3.761200</td>\n",
       "      <td>4.094345</td>\n",
       "    </tr>\n",
       "    <tr>\n",
       "      <th>YUBAJCA</th>\n",
       "      <td>3.871201</td>\n",
       "      <td>4.043051</td>\n",
       "      <td>3.737670</td>\n",
       "      <td>4.304065</td>\n",
       "    </tr>\n",
       "  </tbody>\n",
       "</table>\n",
       "<p>88 rows × 4 columns</p>\n",
       "</div>"
      ],
      "text/plain": [
       "         FY15 ALOS  FY16 ALOS  FY17 ALOS  FY18 ALOS\n",
       "DETLOC                                             \n",
       "ADLNTCA   3.951244   3.931826   4.262680   4.248495\n",
       "ATLANGA   2.397895   3.401197   3.555348   3.555348\n",
       "BAKERFL   4.077537   3.970292   3.891820   4.204693\n",
       "BERGENJ   4.595120   4.615121   4.521789   4.488636\n",
       "BOONEKY   3.610918   3.663562   3.610918   4.060443\n",
       "BOPHON    3.988984   3.931826   3.761200   1.386294\n",
       "BRINDMA   4.204693   4.174387   4.234107   4.795791\n",
       "BTV       4.143135   4.343805   4.330733   4.744932\n",
       "BUTLEKS   2.995732   2.833213   3.367296   2.772589\n",
       "BUTLEOH   3.583519   3.737670   3.761200   3.583519\n",
       "CACFMES   3.555348   4.094345   3.555348   4.454347\n",
       "CALHOMI   3.737670   4.025352   3.912023   4.234107\n",
       "CAMBRPA       -inf       -inf       -inf       -inf\n",
       "CARJAMN   4.189655   3.828641   3.784190   3.583519\n",
       "CASCAMT   1.945910   2.197225   1.945910   1.791759\n",
       "CCAFLAZ   3.465736   3.663562   3.988984   4.127134\n",
       "CCASDCA   3.218876   3.044522   3.583519   2.484907\n",
       "CHARLSC   1.098612   1.098612   2.397895   2.197225\n",
       "CHASEKS   3.526361   3.526361   3.583519   4.553877\n",
       "CHIPPMI   4.418841   4.465908   4.110874   4.934474\n",
       "CHRISMO   3.465736   3.761200   3.496508   0.693147\n",
       "CLINTPA   1.609438   1.609438   2.890372   3.135494\n",
       "CSCNWWA   4.406719   4.454347   4.465908   4.574711\n",
       "DENICDF   3.828641   3.891820   3.931826   4.595120\n",
       "DODGEWI   3.258097   3.135494   3.332205   3.401197\n",
       "EAZ       4.248495   4.418841   4.317488   4.663439\n",
       "ELMORID   2.079442   1.945910   1.609438   1.791759\n",
       "ELZICDF   3.688879   4.043051   4.007333   4.753590\n",
       "EPC       2.890372   2.833213   2.833213   2.484907\n",
       "ESSEXNJ   4.454347   4.663439   4.595120   4.564348\n",
       "...            ...        ...        ...        ...\n",
       "OTRPCNM   2.890372   2.772589   2.772589   2.833213\n",
       "PIC       1.609438   1.791759   2.079442   2.564949\n",
       "PIKCOPA   4.060443   4.290459   4.454347   4.532599\n",
       "PINEPLA       -inf       -inf       -inf       -inf\n",
       "PLYMOMA   4.290459   4.234107   4.110874   4.127134\n",
       "POLKCTX   3.583519   3.688879   3.784190   3.044522\n",
       "POLKJIA   2.197225   2.397895   2.995732   2.995732\n",
       "POTTAIA   3.850148   4.007333   4.174387   4.343805\n",
       "PULASIL       -inf       -inf       -inf       -inf\n",
       "RGRNDTX   2.484907   2.484907   2.772589   3.332205\n",
       "RIOCCCA   3.496508   3.970292   3.737670   3.850148\n",
       "SACITCA   3.044522   3.218876   3.367296   3.761200\n",
       "SENECOH   3.258097   3.637586   3.610918   4.927254\n",
       "SHERBMN   3.688879   3.850148   3.912023   4.564348\n",
       "STCDFTX   3.583519   3.713572   3.806662   3.401197\n",
       "STCLAMI   3.465736   3.737670   3.737670   4.330733\n",
       "STWRTGA   3.912023   4.158883   4.158883   4.406719\n",
       "SUFFOMA   3.610918   3.688879   3.526361   3.688879\n",
       "TLACYCA   2.995732   3.295837   3.178054   3.091042\n",
       "TOORANM   2.079442   2.302585   3.178054   3.610918\n",
       "TULCOOK   3.135494   3.258097   3.044522   3.891820\n",
       "UTAHCUT   3.610918   3.784190   3.583519   3.433987\n",
       "VPREGVA   3.218876   4.234107   4.094345   4.158883\n",
       "WAKULFL   3.871201   3.806662   3.784190   3.401197\n",
       "WASHCUT   2.833213   2.484907   2.639057   2.397895\n",
       "WORCEMD   4.330733   4.343805   4.219508   4.682131\n",
       "WTXDFTX   1.386294   2.079442   2.397895   2.564949\n",
       "WVSCENT   1.386294   1.791759   1.791759   1.609438\n",
       "YORCOPA   3.806662   3.871201   3.761200   4.094345\n",
       "YUBAJCA   3.871201   4.043051   3.737670   4.304065\n",
       "\n",
       "[88 rows x 4 columns]"
      ]
     },
     "execution_count": 277,
     "metadata": {},
     "output_type": "execute_result"
    }
   ],
   "source": [
    "np.log(data.loc[:,alos])"
   ]
  },
  {
   "cell_type": "code",
   "execution_count": 278,
   "metadata": {},
   "outputs": [
    {
     "data": {
      "image/png": "[encoded data removed]",
      "text/plain": [
       "<Figure size 720x576 with 3 Axes>"
      ]
     },
     "metadata": {
      "needs_background": "light"
     },
     "output_type": "display_data"
    }
   ],
   "source": [
    "fig = plt.figure(figsize=(10,8))\n",
    "i = 0\n",
    "for fy in fys:\n",
    "    x = f'{fy} solitary ALOS'\n",
    "    y = f'{fy} ADP'\n",
    "    ax=plt.subplot(2,2,i+1)\n",
    "    i = i+1\n",
    "    \n",
    "    plt.scatter(x=x, y=y, data=data)\n",
    "    plt.scatter(x=x, y=y, c='r', data=data.loc[target_facil])\n",
    "    plt.scatter(x=x, y=y, c='y', data=data.loc[target_facil_2])\n",
    "    \n",
    "    plt.xlabel('Solitary ALOS')\n",
    "#     plt.xticks(np.arange(0, 126, step=25), rotation=45)\n",
    "    plt.ylabel('ADP')\n",
    "#     plt.yticks(np.arange(0, 2001, step=200))\n",
    "#     plt.ylim(-100, 2000)\n",
    "    plt.title(f'{fy}')\n",
    "\n",
    "plt.suptitle(f'ICE facilities by ADP, solitary ALOS; {target_facil} highlighted', fontsize=14)\n",
    "plt.subplots_adjust(wspace=.4, hspace=.4)\n",
    "plt.show;"
   ]
  },
  {
   "cell_type": "code",
   "execution_count": null,
   "metadata": {},
   "outputs": [],
   "source": []
  },
  {
   "cell_type": "code",
   "execution_count": 279,
   "metadata": {},
   "outputs": [],
   "source": [
    "# data.loc[:,sol_cols] = np.log(data.loc[:,sol_cols]+1)"
   ]
  },
  {
   "cell_type": "code",
   "execution_count": 280,
   "metadata": {},
   "outputs": [],
   "source": [
    "# data.loc[:,alos] = np.log(data.loc[:,alos]+1)"
   ]
  },
  {
   "cell_type": "code",
   "execution_count": 281,
   "metadata": {},
   "outputs": [
    {
     "data": {
      "image/png": "[encoded data removed]",
      "text/plain": [
       "<Figure size 720x576 with 3 Axes>"
      ]
     },
     "metadata": {
      "needs_background": "light"
     },
     "output_type": "display_data"
    }
   ],
   "source": [
    "fig = plt.figure(figsize=(10,8))\n",
    "i = 0\n",
    "for fy in fys:\n",
    "    x = f'{fy} solitary ALOS'\n",
    "    y = f'{fy} ALOS'\n",
    "    ax=plt.subplot(2,2,i+1)\n",
    "    i = i+1\n",
    "    \n",
    "    plt.scatter(x=x, y=y, data=data)\n",
    "    plt.scatter(x=x, y=y, c='r', data=data.loc[target_facil])\n",
    "    plt.scatter(x=x, y=y, c='y', data=data.loc[target_facil_2])\n",
    "    \n",
    "    plt.xlabel('Solitary ALOS')\n",
    "#     plt.xticks(np.arange(0, 126, step=25), rotation=45)\n",
    "    plt.ylabel('ALOS')\n",
    "#     plt.yticks(np.arange(0, 151, step=10))\n",
    "#     plt.ylim(-5, 150)\n",
    "    plt.title(f'{fy}')\n",
    "\n",
    "plt.suptitle(f'ICE facilities by ALOS, solitary ALOS; {target_facil} highlighted', fontsize=14)\n",
    "plt.subplots_adjust(wspace=.4, hspace=.4)\n",
    "plt.show;"
   ]
  },
  {
   "cell_type": "code",
   "execution_count": null,
   "metadata": {},
   "outputs": [],
   "source": []
  },
  {
   "cell_type": "code",
   "execution_count": 282,
   "metadata": {},
   "outputs": [
    {
     "data": {
      "image/png": "[encoded data removed]",
      "text/plain": [
       "<Figure size 720x576 with 3 Axes>"
      ]
     },
     "metadata": {
      "needs_background": "light"
     },
     "output_type": "display_data"
    }
   ],
   "source": [
    "fig = plt.figure(figsize=(10,8))\n",
    "i = 0\n",
    "for fy in fys:\n",
    "    x = f'{fy} solitary ALOS'\n",
    "    y = f'{fy} solitary count'\n",
    "    ax=plt.subplot(2,2,i+1)\n",
    "    i = i+1\n",
    "    \n",
    "    plt.scatter(x=x, y=y, data=data)\n",
    "    plt.scatter(x=x, y=y, c='r', data=data.loc[target_facil])\n",
    "    plt.scatter(x=x, y=y, c='y', data=data.loc[target_facil_2])\n",
    "    \n",
    "    plt.xlabel('Solitary ALOS')\n",
    "#     plt.xticks(np.arange(0, 126, step=25), rotation=45)\n",
    "    plt.ylabel('Solitary count')\n",
    "#     plt.yticks(np.arange(0, 151, step=10))\n",
    "#     plt.ylim(-5, 150)\n",
    "    plt.title(f'{fy}')\n",
    "\n",
    "plt.suptitle(f'ICE facilities by solitary count, solitary ALOS; {target_facil} highlighted', fontsize=14)\n",
    "plt.subplots_adjust(wspace=.4, hspace=.4)\n",
    "plt.show;"
   ]
  },
  {
   "cell_type": "code",
   "execution_count": null,
   "metadata": {},
   "outputs": [],
   "source": []
  },
  {
   "cell_type": "code",
   "execution_count": 285,
   "metadata": {
    "scrolled": true
   },
   "outputs": [
    {
     "data": {
      "image/png": "[encoded data removed]",
      "text/plain": [
       "<Figure size 720x576 with 1 Axes>"
      ]
     },
     "metadata": {
      "needs_background": "light"
     },
     "output_type": "display_data"
    }
   ],
   "source": [
    "fig = plt.figure(figsize=(10,8))\n",
    "i = 0\n",
    "for fy in ['FY17']:\n",
    "    x = f'{fy} solitary ALOS'\n",
    "    y = f'FY17_solitary_ADP'\n",
    "    ax=plt.subplot(2,2,i+1)\n",
    "    i = i+1\n",
    "    \n",
    "    plt.scatter(x=x, y=y, data=data)\n",
    "    plt.scatter(x=x, y=y, c='r', data=data.loc[target_facil])\n",
    "    plt.scatter(x=x, y=y, c='g', data=data.loc[target_facil_2])\n",
    "    \n",
    "    plt.xlabel('Solitary ALOS')\n",
    "#     plt.xticks(np.arange(0, 100, step=10), rotation=45)\n",
    "    plt.ylabel('FY17_solitary_ADP')\n",
    "#     plt.yticks(np.arange(0, 100, step=10))\n",
    "#     plt.ylim(-5, 70)\n",
    "    plt.title(f'{fy}')\n",
    "\n",
    "plt.suptitle(f'ICE facilities by solitary ADP, solitary ALOS; {target_facil} highlighted', fontsize=14)\n",
    "plt.subplots_adjust(wspace=.4, hspace=.4)\n",
    "plt.show;"
   ]
  },
  {
   "cell_type": "code",
   "execution_count": null,
   "metadata": {},
   "outputs": [],
   "source": []
  }
 ],
 "metadata": {
  "kernelspec": {
   "display_name": "Python 3",
   "language": "python",
   "name": "python3"
  },
  "language_info": {
   "codemirror_mode": {
    "name": "ipython",
    "version": 3
   },
   "file_extension": ".py",
   "mimetype": "text/x-python",
   "name": "python",
   "nbconvert_exporter": "python",
   "pygments_lexer": "ipython3",
   "version": "3.7.1"
  }
 },
 "nbformat": 4,
 "nbformat_minor": 2
}
