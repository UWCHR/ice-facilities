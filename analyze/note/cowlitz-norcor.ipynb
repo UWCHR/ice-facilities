{
 "cells": [
  {
   "cell_type": "code",
   "execution_count": 1,
   "metadata": {},
   "outputs": [],
   "source": [
    "import pandas as pd\n",
    "import numpy as np\n",
    "import matplotlib.pyplot as plt\n",
    "from matplotlib.pyplot import cm\n",
    "import seaborn as sns\n",
    "import datetime as dt\n",
    "import yaml\n",
    "from pandas.tseries import offsets\n",
    "from matplotlib.ticker import (MultipleLocator, FormatStrFormatter,\n",
    "                               AutoMinorLocator, NullLocator)\n",
    "import matplotlib.dates as mdates"
   ]
  },
  {
   "cell_type": "code",
   "execution_count": 2,
   "metadata": {},
   "outputs": [],
   "source": [
    "csv_opts = {'sep': '|',\n",
    "            'quotechar': '\"',\n",
    "            'compression': 'gzip',\n",
    "            'encoding': 'utf-8'}"
   ]
  },
  {
   "cell_type": "code",
   "execution_count": 3,
   "metadata": {},
   "outputs": [],
   "source": [
    "cow = pd.read_csv('../input/cowlitz.csv.gz', **csv_opts, parse_dates=['Admit Date'])\n",
    "nor = pd.read_csv('../input/norcor.csv.gz', **csv_opts, parse_dates=['Admitted', 'Released'])"
   ]
  },
  {
   "cell_type": "code",
   "execution_count": 4,
   "metadata": {},
   "outputs": [
    {
     "data": {
      "text/html": [
       "<div>\n",
       "<style scoped>\n",
       "    .dataframe tbody tr th:only-of-type {\n",
       "        vertical-align: middle;\n",
       "    }\n",
       "\n",
       "    .dataframe tbody tr th {\n",
       "        vertical-align: top;\n",
       "    }\n",
       "\n",
       "    .dataframe thead th {\n",
       "        text-align: right;\n",
       "    }\n",
       "</style>\n",
       "<table border=\"1\" class=\"dataframe\">\n",
       "  <thead>\n",
       "    <tr style=\"text-align: right;\">\n",
       "      <th></th>\n",
       "      <th>ID</th>\n",
       "      <th>Days</th>\n",
       "      <th>Hours</th>\n",
       "      <th>Admit Date</th>\n",
       "      <th>Facility</th>\n",
       "    </tr>\n",
       "  </thead>\n",
       "  <tbody>\n",
       "    <tr>\n",
       "      <th>0</th>\n",
       "      <td>Cowlitz 1</td>\n",
       "      <td>NaN</td>\n",
       "      <td>11</td>\n",
       "      <td>2015-04-21</td>\n",
       "      <td>Cowlitz</td>\n",
       "    </tr>\n",
       "    <tr>\n",
       "      <th>1</th>\n",
       "      <td>Cowlitz 2</td>\n",
       "      <td>101.0</td>\n",
       "      <td>15</td>\n",
       "      <td>2017-10-10</td>\n",
       "      <td>Cowlitz</td>\n",
       "    </tr>\n",
       "    <tr>\n",
       "      <th>2</th>\n",
       "      <td>Cowlitz 3</td>\n",
       "      <td>79.0</td>\n",
       "      <td>10</td>\n",
       "      <td>2018-01-02</td>\n",
       "      <td>Cowlitz</td>\n",
       "    </tr>\n",
       "    <tr>\n",
       "      <th>3</th>\n",
       "      <td>Cowlitz 4</td>\n",
       "      <td>4.0</td>\n",
       "      <td>20</td>\n",
       "      <td>2018-02-15</td>\n",
       "      <td>Cowlitz</td>\n",
       "    </tr>\n",
       "    <tr>\n",
       "      <th>4</th>\n",
       "      <td>Cowlitz 5</td>\n",
       "      <td>195.0</td>\n",
       "      <td>14</td>\n",
       "      <td>2016-08-30</td>\n",
       "      <td>Cowlitz</td>\n",
       "    </tr>\n",
       "  </tbody>\n",
       "</table>\n",
       "</div>"
      ],
      "text/plain": [
       "          ID   Days  Hours Admit Date Facility\n",
       "0  Cowlitz 1    NaN     11 2015-04-21  Cowlitz\n",
       "1  Cowlitz 2  101.0     15 2017-10-10  Cowlitz\n",
       "2  Cowlitz 3   79.0     10 2018-01-02  Cowlitz\n",
       "3  Cowlitz 4    4.0     20 2018-02-15  Cowlitz\n",
       "4  Cowlitz 5  195.0     14 2016-08-30  Cowlitz"
      ]
     },
     "execution_count": 4,
     "metadata": {},
     "output_type": "execute_result"
    }
   ],
   "source": [
    "cow.head()"
   ]
  },
  {
   "cell_type": "code",
   "execution_count": 5,
   "metadata": {},
   "outputs": [
    {
     "data": {
      "text/html": [
       "<div>\n",
       "<style scoped>\n",
       "    .dataframe tbody tr th:only-of-type {\n",
       "        vertical-align: middle;\n",
       "    }\n",
       "\n",
       "    .dataframe tbody tr th {\n",
       "        vertical-align: top;\n",
       "    }\n",
       "\n",
       "    .dataframe thead th {\n",
       "        text-align: right;\n",
       "    }\n",
       "</style>\n",
       "<table border=\"1\" class=\"dataframe\">\n",
       "  <thead>\n",
       "    <tr style=\"text-align: right;\">\n",
       "      <th></th>\n",
       "      <th>ID</th>\n",
       "      <th>Admitted</th>\n",
       "      <th>Released</th>\n",
       "      <th>Nationality</th>\n",
       "      <th>Criminal Charges</th>\n",
       "      <th>Facility</th>\n",
       "    </tr>\n",
       "  </thead>\n",
       "  <tbody>\n",
       "    <tr>\n",
       "      <th>10</th>\n",
       "      <td>NORCOR 11</td>\n",
       "      <td>2018-06-27</td>\n",
       "      <td>2018-07-20</td>\n",
       "      <td>Honduras</td>\n",
       "      <td>Cruelty to Animals</td>\n",
       "      <td>NORCOR</td>\n",
       "    </tr>\n",
       "    <tr>\n",
       "      <th>11</th>\n",
       "      <td>NORCOR 12</td>\n",
       "      <td>2018-06-28</td>\n",
       "      <td>2018-10-15</td>\n",
       "      <td>Mexico</td>\n",
       "      <td>Break and Enter Vehicles and Larceny (x7); Fin...</td>\n",
       "      <td>NORCOR</td>\n",
       "    </tr>\n",
       "    <tr>\n",
       "      <th>12</th>\n",
       "      <td>NORCOR 13</td>\n",
       "      <td>2018-08-01</td>\n",
       "      <td>2018-12-24</td>\n",
       "      <td>Mexico</td>\n",
       "      <td>Criminal Sexual Misconduct 5 (x3)</td>\n",
       "      <td>NORCOR</td>\n",
       "    </tr>\n",
       "    <tr>\n",
       "      <th>13</th>\n",
       "      <td>NORCOR 14</td>\n",
       "      <td>2018-10-26</td>\n",
       "      <td>NaT</td>\n",
       "      <td>El Salvador</td>\n",
       "      <td>Sexual Assault; Sodomy</td>\n",
       "      <td>NORCOR</td>\n",
       "    </tr>\n",
       "    <tr>\n",
       "      <th>14</th>\n",
       "      <td>NORCOR 15</td>\n",
       "      <td>2019-01-08</td>\n",
       "      <td>NaT</td>\n",
       "      <td>Nicaragua</td>\n",
       "      <td>Statutory Rape</td>\n",
       "      <td>NORCOR</td>\n",
       "    </tr>\n",
       "  </tbody>\n",
       "</table>\n",
       "</div>"
      ],
      "text/plain": [
       "           ID   Admitted   Released  Nationality  \\\n",
       "10  NORCOR 11 2018-06-27 2018-07-20     Honduras   \n",
       "11  NORCOR 12 2018-06-28 2018-10-15       Mexico   \n",
       "12  NORCOR 13 2018-08-01 2018-12-24       Mexico   \n",
       "13  NORCOR 14 2018-10-26        NaT  El Salvador   \n",
       "14  NORCOR 15 2019-01-08        NaT    Nicaragua   \n",
       "\n",
       "                                     Criminal Charges Facility  \n",
       "10                                 Cruelty to Animals   NORCOR  \n",
       "11  Break and Enter Vehicles and Larceny (x7); Fin...   NORCOR  \n",
       "12                  Criminal Sexual Misconduct 5 (x3)   NORCOR  \n",
       "13                             Sexual Assault; Sodomy   NORCOR  \n",
       "14                                     Statutory Rape   NORCOR  "
      ]
     },
     "execution_count": 5,
     "metadata": {},
     "output_type": "execute_result"
    }
   ],
   "source": [
    "nor.tail()"
   ]
  },
  {
   "cell_type": "code",
   "execution_count": 6,
   "metadata": {},
   "outputs": [],
   "source": [
    "cow['Admitted'] = cow['Admit Date']\n",
    "cow = cow.drop('Admit Date', axis=1)"
   ]
  },
  {
   "cell_type": "code",
   "execution_count": 7,
   "metadata": {},
   "outputs": [],
   "source": [
    "cow['Days'] = cow['Days'].fillna(0)"
   ]
  },
  {
   "cell_type": "code",
   "execution_count": 8,
   "metadata": {},
   "outputs": [],
   "source": [
    "cow['Released'] = cow['Admitted'] + pd.to_timedelta(cow['Days'], unit='d')"
   ]
  },
  {
   "cell_type": "code",
   "execution_count": 9,
   "metadata": {},
   "outputs": [],
   "source": [
    "# Last youth was not released at time of data production\n",
    "# cow.loc[len(cow)-1,'Released'] = pd.NaT"
   ]
  },
  {
   "cell_type": "code",
   "execution_count": 10,
   "metadata": {},
   "outputs": [],
   "source": [
    "cow['Days'] = (pd.to_timedelta(cow['Days'], unit='D') + pd.to_timedelta(cow['Hours'], unit='H')) / np.timedelta64(1, 'D')"
   ]
  },
  {
   "cell_type": "code",
   "execution_count": 11,
   "metadata": {},
   "outputs": [],
   "source": [
    "cow = cow.drop('Hours', axis=1)"
   ]
  },
  {
   "cell_type": "code",
   "execution_count": 12,
   "metadata": {},
   "outputs": [
    {
     "data": {
      "text/html": [
       "<div>\n",
       "<style scoped>\n",
       "    .dataframe tbody tr th:only-of-type {\n",
       "        vertical-align: middle;\n",
       "    }\n",
       "\n",
       "    .dataframe tbody tr th {\n",
       "        vertical-align: top;\n",
       "    }\n",
       "\n",
       "    .dataframe thead th {\n",
       "        text-align: right;\n",
       "    }\n",
       "</style>\n",
       "<table border=\"1\" class=\"dataframe\">\n",
       "  <thead>\n",
       "    <tr style=\"text-align: right;\">\n",
       "      <th></th>\n",
       "      <th>ID</th>\n",
       "      <th>Days</th>\n",
       "      <th>Facility</th>\n",
       "      <th>Admitted</th>\n",
       "      <th>Released</th>\n",
       "    </tr>\n",
       "  </thead>\n",
       "  <tbody>\n",
       "    <tr>\n",
       "      <th>0</th>\n",
       "      <td>Cowlitz 1</td>\n",
       "      <td>0.458333</td>\n",
       "      <td>Cowlitz</td>\n",
       "      <td>2015-04-21</td>\n",
       "      <td>2015-04-21</td>\n",
       "    </tr>\n",
       "    <tr>\n",
       "      <th>1</th>\n",
       "      <td>Cowlitz 2</td>\n",
       "      <td>101.625000</td>\n",
       "      <td>Cowlitz</td>\n",
       "      <td>2017-10-10</td>\n",
       "      <td>2018-01-19</td>\n",
       "    </tr>\n",
       "    <tr>\n",
       "      <th>2</th>\n",
       "      <td>Cowlitz 3</td>\n",
       "      <td>79.416667</td>\n",
       "      <td>Cowlitz</td>\n",
       "      <td>2018-01-02</td>\n",
       "      <td>2018-03-22</td>\n",
       "    </tr>\n",
       "    <tr>\n",
       "      <th>3</th>\n",
       "      <td>Cowlitz 4</td>\n",
       "      <td>4.833333</td>\n",
       "      <td>Cowlitz</td>\n",
       "      <td>2018-02-15</td>\n",
       "      <td>2018-02-19</td>\n",
       "    </tr>\n",
       "    <tr>\n",
       "      <th>4</th>\n",
       "      <td>Cowlitz 5</td>\n",
       "      <td>195.583333</td>\n",
       "      <td>Cowlitz</td>\n",
       "      <td>2016-08-30</td>\n",
       "      <td>2017-03-13</td>\n",
       "    </tr>\n",
       "    <tr>\n",
       "      <th>5</th>\n",
       "      <td>Cowlitz 6</td>\n",
       "      <td>118.458333</td>\n",
       "      <td>Cowlitz</td>\n",
       "      <td>2017-11-30</td>\n",
       "      <td>2018-03-28</td>\n",
       "    </tr>\n",
       "    <tr>\n",
       "      <th>6</th>\n",
       "      <td>Cowlitz 7</td>\n",
       "      <td>20.041667</td>\n",
       "      <td>Cowlitz</td>\n",
       "      <td>2018-02-08</td>\n",
       "      <td>2018-02-28</td>\n",
       "    </tr>\n",
       "    <tr>\n",
       "      <th>7</th>\n",
       "      <td>Cowlitz 8</td>\n",
       "      <td>56.375000</td>\n",
       "      <td>Cowlitz</td>\n",
       "      <td>2016-08-25</td>\n",
       "      <td>2016-10-20</td>\n",
       "    </tr>\n",
       "    <tr>\n",
       "      <th>8</th>\n",
       "      <td>Cowlitz 9</td>\n",
       "      <td>47.125000</td>\n",
       "      <td>Cowlitz</td>\n",
       "      <td>2018-01-12</td>\n",
       "      <td>2018-02-28</td>\n",
       "    </tr>\n",
       "    <tr>\n",
       "      <th>9</th>\n",
       "      <td>Cowlitz 10</td>\n",
       "      <td>241.833333</td>\n",
       "      <td>Cowlitz</td>\n",
       "      <td>2016-02-23</td>\n",
       "      <td>2016-10-21</td>\n",
       "    </tr>\n",
       "    <tr>\n",
       "      <th>10</th>\n",
       "      <td>Cowlitz 11</td>\n",
       "      <td>72.500000</td>\n",
       "      <td>Cowlitz</td>\n",
       "      <td>2017-10-28</td>\n",
       "      <td>2018-01-08</td>\n",
       "    </tr>\n",
       "    <tr>\n",
       "      <th>11</th>\n",
       "      <td>Cowlitz 12</td>\n",
       "      <td>110.375000</td>\n",
       "      <td>Cowlitz</td>\n",
       "      <td>2018-01-17</td>\n",
       "      <td>2018-05-07</td>\n",
       "    </tr>\n",
       "    <tr>\n",
       "      <th>12</th>\n",
       "      <td>Cowlitz 13</td>\n",
       "      <td>44.250000</td>\n",
       "      <td>Cowlitz</td>\n",
       "      <td>2018-03-31</td>\n",
       "      <td>2018-05-14</td>\n",
       "    </tr>\n",
       "    <tr>\n",
       "      <th>13</th>\n",
       "      <td>Cowlitz 14</td>\n",
       "      <td>60.458333</td>\n",
       "      <td>Cowlitz</td>\n",
       "      <td>2018-02-23</td>\n",
       "      <td>2018-04-24</td>\n",
       "    </tr>\n",
       "    <tr>\n",
       "      <th>14</th>\n",
       "      <td>Cowlitz 15</td>\n",
       "      <td>297.791667</td>\n",
       "      <td>Cowlitz</td>\n",
       "      <td>2017-09-02</td>\n",
       "      <td>2018-06-26</td>\n",
       "    </tr>\n",
       "  </tbody>\n",
       "</table>\n",
       "</div>"
      ],
      "text/plain": [
       "            ID        Days Facility   Admitted   Released\n",
       "0    Cowlitz 1    0.458333  Cowlitz 2015-04-21 2015-04-21\n",
       "1    Cowlitz 2  101.625000  Cowlitz 2017-10-10 2018-01-19\n",
       "2    Cowlitz 3   79.416667  Cowlitz 2018-01-02 2018-03-22\n",
       "3    Cowlitz 4    4.833333  Cowlitz 2018-02-15 2018-02-19\n",
       "4    Cowlitz 5  195.583333  Cowlitz 2016-08-30 2017-03-13\n",
       "5    Cowlitz 6  118.458333  Cowlitz 2017-11-30 2018-03-28\n",
       "6    Cowlitz 7   20.041667  Cowlitz 2018-02-08 2018-02-28\n",
       "7    Cowlitz 8   56.375000  Cowlitz 2016-08-25 2016-10-20\n",
       "8    Cowlitz 9   47.125000  Cowlitz 2018-01-12 2018-02-28\n",
       "9   Cowlitz 10  241.833333  Cowlitz 2016-02-23 2016-10-21\n",
       "10  Cowlitz 11   72.500000  Cowlitz 2017-10-28 2018-01-08\n",
       "11  Cowlitz 12  110.375000  Cowlitz 2018-01-17 2018-05-07\n",
       "12  Cowlitz 13   44.250000  Cowlitz 2018-03-31 2018-05-14\n",
       "13  Cowlitz 14   60.458333  Cowlitz 2018-02-23 2018-04-24\n",
       "14  Cowlitz 15  297.791667  Cowlitz 2017-09-02 2018-06-26"
      ]
     },
     "execution_count": 12,
     "metadata": {},
     "output_type": "execute_result"
    }
   ],
   "source": [
    "cow"
   ]
  },
  {
   "cell_type": "code",
   "execution_count": 13,
   "metadata": {},
   "outputs": [],
   "source": [
    "nor['Days'] = (nor['Released'] - nor['Admitted']) / np.timedelta64(1, 'D')"
   ]
  },
  {
   "cell_type": "code",
   "execution_count": 14,
   "metadata": {},
   "outputs": [
    {
     "data": {
      "text/html": [
       "<div>\n",
       "<style scoped>\n",
       "    .dataframe tbody tr th:only-of-type {\n",
       "        vertical-align: middle;\n",
       "    }\n",
       "\n",
       "    .dataframe tbody tr th {\n",
       "        vertical-align: top;\n",
       "    }\n",
       "\n",
       "    .dataframe thead th {\n",
       "        text-align: right;\n",
       "    }\n",
       "</style>\n",
       "<table border=\"1\" class=\"dataframe\">\n",
       "  <thead>\n",
       "    <tr style=\"text-align: right;\">\n",
       "      <th></th>\n",
       "      <th>ID</th>\n",
       "      <th>Admitted</th>\n",
       "      <th>Released</th>\n",
       "      <th>Nationality</th>\n",
       "      <th>Criminal Charges</th>\n",
       "      <th>Facility</th>\n",
       "      <th>Days</th>\n",
       "    </tr>\n",
       "  </thead>\n",
       "  <tbody>\n",
       "    <tr>\n",
       "      <th>0</th>\n",
       "      <td>NORCOR 1</td>\n",
       "      <td>2016-06-14</td>\n",
       "      <td>2016-06-15</td>\n",
       "      <td>Tanzania</td>\n",
       "      <td>NaN</td>\n",
       "      <td>NORCOR</td>\n",
       "      <td>1.0</td>\n",
       "    </tr>\n",
       "    <tr>\n",
       "      <th>1</th>\n",
       "      <td>NORCOR 2</td>\n",
       "      <td>2017-01-03</td>\n",
       "      <td>2017-06-21</td>\n",
       "      <td>El Salvador</td>\n",
       "      <td>Assault and Battery with a Dangerous Weapon</td>\n",
       "      <td>NORCOR</td>\n",
       "      <td>169.0</td>\n",
       "    </tr>\n",
       "    <tr>\n",
       "      <th>2</th>\n",
       "      <td>NORCOR 3</td>\n",
       "      <td>2017-03-15</td>\n",
       "      <td>2018-01-02</td>\n",
       "      <td>Honduras</td>\n",
       "      <td>Gun on Education Property; Contributing to the...</td>\n",
       "      <td>NORCOR</td>\n",
       "      <td>293.0</td>\n",
       "    </tr>\n",
       "    <tr>\n",
       "      <th>3</th>\n",
       "      <td>NORCOR 4</td>\n",
       "      <td>2017-03-30</td>\n",
       "      <td>2017-08-09</td>\n",
       "      <td>El Salvador</td>\n",
       "      <td>Assault and Battery; Carrying a Dangerous Weap...</td>\n",
       "      <td>NORCOR</td>\n",
       "      <td>132.0</td>\n",
       "    </tr>\n",
       "    <tr>\n",
       "      <th>4</th>\n",
       "      <td>NORCOR 5</td>\n",
       "      <td>2017-06-24</td>\n",
       "      <td>2017-11-01</td>\n",
       "      <td>Guatemala</td>\n",
       "      <td>Assault and Battery 2nd Degree; Robbery-Strong...</td>\n",
       "      <td>NORCOR</td>\n",
       "      <td>130.0</td>\n",
       "    </tr>\n",
       "    <tr>\n",
       "      <th>5</th>\n",
       "      <td>NORCOR 6</td>\n",
       "      <td>2017-12-21</td>\n",
       "      <td>2017-12-27</td>\n",
       "      <td>Mexico</td>\n",
       "      <td>Distribution of Schedule 4 Controlled Substance</td>\n",
       "      <td>NORCOR</td>\n",
       "      <td>6.0</td>\n",
       "    </tr>\n",
       "    <tr>\n",
       "      <th>6</th>\n",
       "      <td>NORCOR 7</td>\n",
       "      <td>2018-01-08</td>\n",
       "      <td>2018-01-12</td>\n",
       "      <td>Burma</td>\n",
       "      <td>Breaking and Entering</td>\n",
       "      <td>NORCOR</td>\n",
       "      <td>4.0</td>\n",
       "    </tr>\n",
       "    <tr>\n",
       "      <th>7</th>\n",
       "      <td>NORCOR 8</td>\n",
       "      <td>2018-01-29</td>\n",
       "      <td>2018-03-14</td>\n",
       "      <td>Honduras</td>\n",
       "      <td>Attempted Break/Enter Motor Vehicle (x3)</td>\n",
       "      <td>NORCOR</td>\n",
       "      <td>44.0</td>\n",
       "    </tr>\n",
       "    <tr>\n",
       "      <th>8</th>\n",
       "      <td>NORCOR 9</td>\n",
       "      <td>2018-04-14</td>\n",
       "      <td>2018-05-14</td>\n",
       "      <td>Honduras</td>\n",
       "      <td>Possession of Marijuana; Unlawful Possession o...</td>\n",
       "      <td>NORCOR</td>\n",
       "      <td>30.0</td>\n",
       "    </tr>\n",
       "    <tr>\n",
       "      <th>9</th>\n",
       "      <td>NORCOR 10</td>\n",
       "      <td>2018-05-13</td>\n",
       "      <td>2018-06-01</td>\n",
       "      <td>Mexico</td>\n",
       "      <td>Unlawful Concealed Weapon; Felony Possession o...</td>\n",
       "      <td>NORCOR</td>\n",
       "      <td>19.0</td>\n",
       "    </tr>\n",
       "    <tr>\n",
       "      <th>10</th>\n",
       "      <td>NORCOR 11</td>\n",
       "      <td>2018-06-27</td>\n",
       "      <td>2018-07-20</td>\n",
       "      <td>Honduras</td>\n",
       "      <td>Cruelty to Animals</td>\n",
       "      <td>NORCOR</td>\n",
       "      <td>23.0</td>\n",
       "    </tr>\n",
       "    <tr>\n",
       "      <th>11</th>\n",
       "      <td>NORCOR 12</td>\n",
       "      <td>2018-06-28</td>\n",
       "      <td>2018-10-15</td>\n",
       "      <td>Mexico</td>\n",
       "      <td>Break and Enter Vehicles and Larceny (x7); Fin...</td>\n",
       "      <td>NORCOR</td>\n",
       "      <td>109.0</td>\n",
       "    </tr>\n",
       "    <tr>\n",
       "      <th>12</th>\n",
       "      <td>NORCOR 13</td>\n",
       "      <td>2018-08-01</td>\n",
       "      <td>2018-12-24</td>\n",
       "      <td>Mexico</td>\n",
       "      <td>Criminal Sexual Misconduct 5 (x3)</td>\n",
       "      <td>NORCOR</td>\n",
       "      <td>145.0</td>\n",
       "    </tr>\n",
       "    <tr>\n",
       "      <th>13</th>\n",
       "      <td>NORCOR 14</td>\n",
       "      <td>2018-10-26</td>\n",
       "      <td>NaT</td>\n",
       "      <td>El Salvador</td>\n",
       "      <td>Sexual Assault; Sodomy</td>\n",
       "      <td>NORCOR</td>\n",
       "      <td>NaN</td>\n",
       "    </tr>\n",
       "    <tr>\n",
       "      <th>14</th>\n",
       "      <td>NORCOR 15</td>\n",
       "      <td>2019-01-08</td>\n",
       "      <td>NaT</td>\n",
       "      <td>Nicaragua</td>\n",
       "      <td>Statutory Rape</td>\n",
       "      <td>NORCOR</td>\n",
       "      <td>NaN</td>\n",
       "    </tr>\n",
       "  </tbody>\n",
       "</table>\n",
       "</div>"
      ],
      "text/plain": [
       "           ID   Admitted   Released  Nationality  \\\n",
       "0    NORCOR 1 2016-06-14 2016-06-15     Tanzania   \n",
       "1    NORCOR 2 2017-01-03 2017-06-21  El Salvador   \n",
       "2    NORCOR 3 2017-03-15 2018-01-02     Honduras   \n",
       "3    NORCOR 4 2017-03-30 2017-08-09  El Salvador   \n",
       "4    NORCOR 5 2017-06-24 2017-11-01    Guatemala   \n",
       "5    NORCOR 6 2017-12-21 2017-12-27       Mexico   \n",
       "6    NORCOR 7 2018-01-08 2018-01-12        Burma   \n",
       "7    NORCOR 8 2018-01-29 2018-03-14     Honduras   \n",
       "8    NORCOR 9 2018-04-14 2018-05-14     Honduras   \n",
       "9   NORCOR 10 2018-05-13 2018-06-01       Mexico   \n",
       "10  NORCOR 11 2018-06-27 2018-07-20     Honduras   \n",
       "11  NORCOR 12 2018-06-28 2018-10-15       Mexico   \n",
       "12  NORCOR 13 2018-08-01 2018-12-24       Mexico   \n",
       "13  NORCOR 14 2018-10-26        NaT  El Salvador   \n",
       "14  NORCOR 15 2019-01-08        NaT    Nicaragua   \n",
       "\n",
       "                                     Criminal Charges Facility   Days  \n",
       "0                                                 NaN   NORCOR    1.0  \n",
       "1         Assault and Battery with a Dangerous Weapon   NORCOR  169.0  \n",
       "2   Gun on Education Property; Contributing to the...   NORCOR  293.0  \n",
       "3   Assault and Battery; Carrying a Dangerous Weap...   NORCOR  132.0  \n",
       "4   Assault and Battery 2nd Degree; Robbery-Strong...   NORCOR  130.0  \n",
       "5     Distribution of Schedule 4 Controlled Substance   NORCOR    6.0  \n",
       "6                               Breaking and Entering   NORCOR    4.0  \n",
       "7            Attempted Break/Enter Motor Vehicle (x3)   NORCOR   44.0  \n",
       "8   Possession of Marijuana; Unlawful Possession o...   NORCOR   30.0  \n",
       "9   Unlawful Concealed Weapon; Felony Possession o...   NORCOR   19.0  \n",
       "10                                 Cruelty to Animals   NORCOR   23.0  \n",
       "11  Break and Enter Vehicles and Larceny (x7); Fin...   NORCOR  109.0  \n",
       "12                  Criminal Sexual Misconduct 5 (x3)   NORCOR  145.0  \n",
       "13                             Sexual Assault; Sodomy   NORCOR    NaN  \n",
       "14                                     Statutory Rape   NORCOR    NaN  "
      ]
     },
     "execution_count": 14,
     "metadata": {},
     "output_type": "execute_result"
    }
   ],
   "source": [
    "nor"
   ]
  },
  {
   "cell_type": "code",
   "execution_count": 15,
   "metadata": {},
   "outputs": [],
   "source": [
    "df = pd.concat([cow, nor], sort=False).reset_index(drop=True)"
   ]
  },
  {
   "cell_type": "code",
   "execution_count": 16,
   "metadata": {},
   "outputs": [
    {
     "data": {
      "text/html": [
       "<div>\n",
       "<style scoped>\n",
       "    .dataframe tbody tr th:only-of-type {\n",
       "        vertical-align: middle;\n",
       "    }\n",
       "\n",
       "    .dataframe tbody tr th {\n",
       "        vertical-align: top;\n",
       "    }\n",
       "\n",
       "    .dataframe thead th {\n",
       "        text-align: right;\n",
       "    }\n",
       "</style>\n",
       "<table border=\"1\" class=\"dataframe\">\n",
       "  <thead>\n",
       "    <tr style=\"text-align: right;\">\n",
       "      <th></th>\n",
       "      <th>count</th>\n",
       "      <th>mean</th>\n",
       "      <th>std</th>\n",
       "      <th>min</th>\n",
       "      <th>25%</th>\n",
       "      <th>50%</th>\n",
       "      <th>75%</th>\n",
       "      <th>max</th>\n",
       "    </tr>\n",
       "    <tr>\n",
       "      <th>Facility</th>\n",
       "      <th></th>\n",
       "      <th></th>\n",
       "      <th></th>\n",
       "      <th></th>\n",
       "      <th></th>\n",
       "      <th></th>\n",
       "      <th></th>\n",
       "      <th></th>\n",
       "    </tr>\n",
       "  </thead>\n",
       "  <tbody>\n",
       "    <tr>\n",
       "      <th>Cowlitz</th>\n",
       "      <td>15.0</td>\n",
       "      <td>96.741667</td>\n",
       "      <td>86.427162</td>\n",
       "      <td>0.458333</td>\n",
       "      <td>45.6875</td>\n",
       "      <td>72.5</td>\n",
       "      <td>114.416667</td>\n",
       "      <td>297.791667</td>\n",
       "    </tr>\n",
       "    <tr>\n",
       "      <th>NORCOR</th>\n",
       "      <td>13.0</td>\n",
       "      <td>85.000000</td>\n",
       "      <td>87.318383</td>\n",
       "      <td>1.000000</td>\n",
       "      <td>19.0000</td>\n",
       "      <td>44.0</td>\n",
       "      <td>132.000000</td>\n",
       "      <td>293.000000</td>\n",
       "    </tr>\n",
       "  </tbody>\n",
       "</table>\n",
       "</div>"
      ],
      "text/plain": [
       "          count       mean        std       min      25%   50%         75%  \\\n",
       "Facility                                                                     \n",
       "Cowlitz    15.0  96.741667  86.427162  0.458333  45.6875  72.5  114.416667   \n",
       "NORCOR     13.0  85.000000  87.318383  1.000000  19.0000  44.0  132.000000   \n",
       "\n",
       "                 max  \n",
       "Facility              \n",
       "Cowlitz   297.791667  \n",
       "NORCOR    293.000000  "
      ]
     },
     "execution_count": 16,
     "metadata": {},
     "output_type": "execute_result"
    }
   ],
   "source": [
    "df.groupby('Facility')['Days'].describe()"
   ]
  },
  {
   "cell_type": "code",
   "execution_count": 17,
   "metadata": {},
   "outputs": [
    {
     "data": {
      "image/png": "[encoded data removed]",
      "text/plain": [
       "<Figure size 432x288 with 1 Axes>"
      ]
     },
     "metadata": {
      "needs_background": "light"
     },
     "output_type": "display_data"
    }
   ],
   "source": [
    "num_bins = np.arange(0,365,30)\n",
    "data = df['Days']\n",
    "# the histogram of the data\n",
    "n, bins, patches = plt.hist(data, num_bins, facecolor='blue', alpha=0.5)\n",
    " \n",
    "plt.plot()\n",
    "plt.xlabel('Days')\n",
    "plt.xticks(np.arange(0, 365, step=30), rotation=45)\n",
    "plt.ylabel('Placement count')\n",
    "plt.yticks(np.arange(0, 11, step=1))\n",
    "plt.ylim(0, 10)\n",
    "plt.title('Length of detention (Cowlitz + NORCOR)')\n",
    " \n",
    "# Tweak spacing to prevent clipping of ylabel\n",
    "plt.subplots_adjust(left=0.15) \n",
    "# plt.savefig('output/nwdc_solitary_length_hist.png', bbox_inches='tight')\n",
    "plt.show()"
   ]
  },
  {
   "cell_type": "code",
   "execution_count": 18,
   "metadata": {},
   "outputs": [
    {
     "data": {
      "image/png": "[encoded data removed]",
      "text/plain": [
       "<Figure size 432x288 with 1 Axes>"
      ]
     },
     "metadata": {
      "needs_background": "light"
     },
     "output_type": "display_data"
    }
   ],
   "source": [
    "x=cow.dropna(subset=['Days']).loc[:, 'Admitted'].astype(int)\n",
    "y=cow.dropna(subset=['Days']).loc[:, 'Days']\n",
    "\n",
    "fig = plt.figure()\n",
    "ax = fig.add_subplot(111)\n",
    "plot1 = plt.scatter(x, y, color='b')\n",
    "plot1.set_label('Cowlitz')\n",
    "\n",
    "x=nor.dropna(subset=['Days']).loc[:, 'Admitted'].astype(int)\n",
    "y=nor.dropna(subset=['Days']).loc[:, 'Days']\n",
    "plot2 = plt.scatter(x, y, color='r')\n",
    "plot2.set_label('NORCOR')\n",
    "\n",
    "\n",
    "xticks = ax.get_xticks()\n",
    "xticks_dates = [str(f'{pd.to_datetime(x).year}-Q{pd.to_datetime(x).quarter}') for x in xticks]\n",
    "ax.set_xticklabels(xticks_dates,  rotation=45)\n",
    "plt.ylabel('Days Detained')\n",
    "plt.xlabel('Admission Date')\n",
    "plt.legend()\n",
    "plt.title('Youth detained for ICE')\n",
    "plt.show()\n",
    "plt.close(fig=fig)\n",
    "del fig, ax"
   ]
  },
  {
   "cell_type": "code",
   "execution_count": 19,
   "metadata": {},
   "outputs": [
    {
     "data": {
      "text/plain": [
       "297.7916666666667"
      ]
     },
     "execution_count": 19,
     "metadata": {},
     "output_type": "execute_result"
    }
   ],
   "source": [
    "df['Days'].max()"
   ]
  },
  {
   "cell_type": "code",
   "execution_count": 20,
   "metadata": {},
   "outputs": [],
   "source": [
    "df_filled = df.copy()\n",
    "df_filled['Released'] = df_filled['Released'].fillna(pd.to_datetime('2019-1-31'))"
   ]
  },
  {
   "cell_type": "code",
   "execution_count": 21,
   "metadata": {},
   "outputs": [
    {
     "data": {
      "text/html": [
       "<div>\n",
       "<style scoped>\n",
       "    .dataframe tbody tr th:only-of-type {\n",
       "        vertical-align: middle;\n",
       "    }\n",
       "\n",
       "    .dataframe tbody tr th {\n",
       "        vertical-align: top;\n",
       "    }\n",
       "\n",
       "    .dataframe thead th {\n",
       "        text-align: right;\n",
       "    }\n",
       "</style>\n",
       "<table border=\"1\" class=\"dataframe\">\n",
       "  <thead>\n",
       "    <tr style=\"text-align: right;\">\n",
       "      <th></th>\n",
       "      <th>ID</th>\n",
       "      <th>Days</th>\n",
       "      <th>Facility</th>\n",
       "      <th>Admitted</th>\n",
       "      <th>Released</th>\n",
       "      <th>Nationality</th>\n",
       "      <th>Criminal Charges</th>\n",
       "    </tr>\n",
       "  </thead>\n",
       "  <tbody>\n",
       "    <tr>\n",
       "      <th>0</th>\n",
       "      <td>Cowlitz 1</td>\n",
       "      <td>0.458333</td>\n",
       "      <td>Cowlitz</td>\n",
       "      <td>2015-04-21</td>\n",
       "      <td>2015-04-21</td>\n",
       "      <td>NaN</td>\n",
       "      <td>NaN</td>\n",
       "    </tr>\n",
       "    <tr>\n",
       "      <th>1</th>\n",
       "      <td>Cowlitz 2</td>\n",
       "      <td>101.625000</td>\n",
       "      <td>Cowlitz</td>\n",
       "      <td>2017-10-10</td>\n",
       "      <td>2018-01-19</td>\n",
       "      <td>NaN</td>\n",
       "      <td>NaN</td>\n",
       "    </tr>\n",
       "    <tr>\n",
       "      <th>2</th>\n",
       "      <td>Cowlitz 3</td>\n",
       "      <td>79.416667</td>\n",
       "      <td>Cowlitz</td>\n",
       "      <td>2018-01-02</td>\n",
       "      <td>2018-03-22</td>\n",
       "      <td>NaN</td>\n",
       "      <td>NaN</td>\n",
       "    </tr>\n",
       "    <tr>\n",
       "      <th>3</th>\n",
       "      <td>Cowlitz 4</td>\n",
       "      <td>4.833333</td>\n",
       "      <td>Cowlitz</td>\n",
       "      <td>2018-02-15</td>\n",
       "      <td>2018-02-19</td>\n",
       "      <td>NaN</td>\n",
       "      <td>NaN</td>\n",
       "    </tr>\n",
       "    <tr>\n",
       "      <th>4</th>\n",
       "      <td>Cowlitz 5</td>\n",
       "      <td>195.583333</td>\n",
       "      <td>Cowlitz</td>\n",
       "      <td>2016-08-30</td>\n",
       "      <td>2017-03-13</td>\n",
       "      <td>NaN</td>\n",
       "      <td>NaN</td>\n",
       "    </tr>\n",
       "    <tr>\n",
       "      <th>5</th>\n",
       "      <td>Cowlitz 6</td>\n",
       "      <td>118.458333</td>\n",
       "      <td>Cowlitz</td>\n",
       "      <td>2017-11-30</td>\n",
       "      <td>2018-03-28</td>\n",
       "      <td>NaN</td>\n",
       "      <td>NaN</td>\n",
       "    </tr>\n",
       "    <tr>\n",
       "      <th>6</th>\n",
       "      <td>Cowlitz 7</td>\n",
       "      <td>20.041667</td>\n",
       "      <td>Cowlitz</td>\n",
       "      <td>2018-02-08</td>\n",
       "      <td>2018-02-28</td>\n",
       "      <td>NaN</td>\n",
       "      <td>NaN</td>\n",
       "    </tr>\n",
       "    <tr>\n",
       "      <th>7</th>\n",
       "      <td>Cowlitz 8</td>\n",
       "      <td>56.375000</td>\n",
       "      <td>Cowlitz</td>\n",
       "      <td>2016-08-25</td>\n",
       "      <td>2016-10-20</td>\n",
       "      <td>NaN</td>\n",
       "      <td>NaN</td>\n",
       "    </tr>\n",
       "    <tr>\n",
       "      <th>8</th>\n",
       "      <td>Cowlitz 9</td>\n",
       "      <td>47.125000</td>\n",
       "      <td>Cowlitz</td>\n",
       "      <td>2018-01-12</td>\n",
       "      <td>2018-02-28</td>\n",
       "      <td>NaN</td>\n",
       "      <td>NaN</td>\n",
       "    </tr>\n",
       "    <tr>\n",
       "      <th>9</th>\n",
       "      <td>Cowlitz 10</td>\n",
       "      <td>241.833333</td>\n",
       "      <td>Cowlitz</td>\n",
       "      <td>2016-02-23</td>\n",
       "      <td>2016-10-21</td>\n",
       "      <td>NaN</td>\n",
       "      <td>NaN</td>\n",
       "    </tr>\n",
       "    <tr>\n",
       "      <th>10</th>\n",
       "      <td>Cowlitz 11</td>\n",
       "      <td>72.500000</td>\n",
       "      <td>Cowlitz</td>\n",
       "      <td>2017-10-28</td>\n",
       "      <td>2018-01-08</td>\n",
       "      <td>NaN</td>\n",
       "      <td>NaN</td>\n",
       "    </tr>\n",
       "    <tr>\n",
       "      <th>11</th>\n",
       "      <td>Cowlitz 12</td>\n",
       "      <td>110.375000</td>\n",
       "      <td>Cowlitz</td>\n",
       "      <td>2018-01-17</td>\n",
       "      <td>2018-05-07</td>\n",
       "      <td>NaN</td>\n",
       "      <td>NaN</td>\n",
       "    </tr>\n",
       "    <tr>\n",
       "      <th>12</th>\n",
       "      <td>Cowlitz 13</td>\n",
       "      <td>44.250000</td>\n",
       "      <td>Cowlitz</td>\n",
       "      <td>2018-03-31</td>\n",
       "      <td>2018-05-14</td>\n",
       "      <td>NaN</td>\n",
       "      <td>NaN</td>\n",
       "    </tr>\n",
       "    <tr>\n",
       "      <th>13</th>\n",
       "      <td>Cowlitz 14</td>\n",
       "      <td>60.458333</td>\n",
       "      <td>Cowlitz</td>\n",
       "      <td>2018-02-23</td>\n",
       "      <td>2018-04-24</td>\n",
       "      <td>NaN</td>\n",
       "      <td>NaN</td>\n",
       "    </tr>\n",
       "    <tr>\n",
       "      <th>14</th>\n",
       "      <td>Cowlitz 15</td>\n",
       "      <td>297.791667</td>\n",
       "      <td>Cowlitz</td>\n",
       "      <td>2017-09-02</td>\n",
       "      <td>2018-06-26</td>\n",
       "      <td>NaN</td>\n",
       "      <td>NaN</td>\n",
       "    </tr>\n",
       "    <tr>\n",
       "      <th>15</th>\n",
       "      <td>NORCOR 1</td>\n",
       "      <td>1.000000</td>\n",
       "      <td>NORCOR</td>\n",
       "      <td>2016-06-14</td>\n",
       "      <td>2016-06-15</td>\n",
       "      <td>Tanzania</td>\n",
       "      <td>NaN</td>\n",
       "    </tr>\n",
       "    <tr>\n",
       "      <th>16</th>\n",
       "      <td>NORCOR 2</td>\n",
       "      <td>169.000000</td>\n",
       "      <td>NORCOR</td>\n",
       "      <td>2017-01-03</td>\n",
       "      <td>2017-06-21</td>\n",
       "      <td>El Salvador</td>\n",
       "      <td>Assault and Battery with a Dangerous Weapon</td>\n",
       "    </tr>\n",
       "    <tr>\n",
       "      <th>17</th>\n",
       "      <td>NORCOR 3</td>\n",
       "      <td>293.000000</td>\n",
       "      <td>NORCOR</td>\n",
       "      <td>2017-03-15</td>\n",
       "      <td>2018-01-02</td>\n",
       "      <td>Honduras</td>\n",
       "      <td>Gun on Education Property; Contributing to the...</td>\n",
       "    </tr>\n",
       "    <tr>\n",
       "      <th>18</th>\n",
       "      <td>NORCOR 4</td>\n",
       "      <td>132.000000</td>\n",
       "      <td>NORCOR</td>\n",
       "      <td>2017-03-30</td>\n",
       "      <td>2017-08-09</td>\n",
       "      <td>El Salvador</td>\n",
       "      <td>Assault and Battery; Carrying a Dangerous Weap...</td>\n",
       "    </tr>\n",
       "    <tr>\n",
       "      <th>19</th>\n",
       "      <td>NORCOR 5</td>\n",
       "      <td>130.000000</td>\n",
       "      <td>NORCOR</td>\n",
       "      <td>2017-06-24</td>\n",
       "      <td>2017-11-01</td>\n",
       "      <td>Guatemala</td>\n",
       "      <td>Assault and Battery 2nd Degree; Robbery-Strong...</td>\n",
       "    </tr>\n",
       "    <tr>\n",
       "      <th>20</th>\n",
       "      <td>NORCOR 6</td>\n",
       "      <td>6.000000</td>\n",
       "      <td>NORCOR</td>\n",
       "      <td>2017-12-21</td>\n",
       "      <td>2017-12-27</td>\n",
       "      <td>Mexico</td>\n",
       "      <td>Distribution of Schedule 4 Controlled Substance</td>\n",
       "    </tr>\n",
       "    <tr>\n",
       "      <th>21</th>\n",
       "      <td>NORCOR 7</td>\n",
       "      <td>4.000000</td>\n",
       "      <td>NORCOR</td>\n",
       "      <td>2018-01-08</td>\n",
       "      <td>2018-01-12</td>\n",
       "      <td>Burma</td>\n",
       "      <td>Breaking and Entering</td>\n",
       "    </tr>\n",
       "    <tr>\n",
       "      <th>22</th>\n",
       "      <td>NORCOR 8</td>\n",
       "      <td>44.000000</td>\n",
       "      <td>NORCOR</td>\n",
       "      <td>2018-01-29</td>\n",
       "      <td>2018-03-14</td>\n",
       "      <td>Honduras</td>\n",
       "      <td>Attempted Break/Enter Motor Vehicle (x3)</td>\n",
       "    </tr>\n",
       "    <tr>\n",
       "      <th>23</th>\n",
       "      <td>NORCOR 9</td>\n",
       "      <td>30.000000</td>\n",
       "      <td>NORCOR</td>\n",
       "      <td>2018-04-14</td>\n",
       "      <td>2018-05-14</td>\n",
       "      <td>Honduras</td>\n",
       "      <td>Possession of Marijuana; Unlawful Possession o...</td>\n",
       "    </tr>\n",
       "    <tr>\n",
       "      <th>24</th>\n",
       "      <td>NORCOR 10</td>\n",
       "      <td>19.000000</td>\n",
       "      <td>NORCOR</td>\n",
       "      <td>2018-05-13</td>\n",
       "      <td>2018-06-01</td>\n",
       "      <td>Mexico</td>\n",
       "      <td>Unlawful Concealed Weapon; Felony Possession o...</td>\n",
       "    </tr>\n",
       "    <tr>\n",
       "      <th>25</th>\n",
       "      <td>NORCOR 11</td>\n",
       "      <td>23.000000</td>\n",
       "      <td>NORCOR</td>\n",
       "      <td>2018-06-27</td>\n",
       "      <td>2018-07-20</td>\n",
       "      <td>Honduras</td>\n",
       "      <td>Cruelty to Animals</td>\n",
       "    </tr>\n",
       "    <tr>\n",
       "      <th>26</th>\n",
       "      <td>NORCOR 12</td>\n",
       "      <td>109.000000</td>\n",
       "      <td>NORCOR</td>\n",
       "      <td>2018-06-28</td>\n",
       "      <td>2018-10-15</td>\n",
       "      <td>Mexico</td>\n",
       "      <td>Break and Enter Vehicles and Larceny (x7); Fin...</td>\n",
       "    </tr>\n",
       "    <tr>\n",
       "      <th>27</th>\n",
       "      <td>NORCOR 13</td>\n",
       "      <td>145.000000</td>\n",
       "      <td>NORCOR</td>\n",
       "      <td>2018-08-01</td>\n",
       "      <td>2018-12-24</td>\n",
       "      <td>Mexico</td>\n",
       "      <td>Criminal Sexual Misconduct 5 (x3)</td>\n",
       "    </tr>\n",
       "    <tr>\n",
       "      <th>28</th>\n",
       "      <td>NORCOR 14</td>\n",
       "      <td>NaN</td>\n",
       "      <td>NORCOR</td>\n",
       "      <td>2018-10-26</td>\n",
       "      <td>2019-01-31</td>\n",
       "      <td>El Salvador</td>\n",
       "      <td>Sexual Assault; Sodomy</td>\n",
       "    </tr>\n",
       "    <tr>\n",
       "      <th>29</th>\n",
       "      <td>NORCOR 15</td>\n",
       "      <td>NaN</td>\n",
       "      <td>NORCOR</td>\n",
       "      <td>2019-01-08</td>\n",
       "      <td>2019-01-31</td>\n",
       "      <td>Nicaragua</td>\n",
       "      <td>Statutory Rape</td>\n",
       "    </tr>\n",
       "  </tbody>\n",
       "</table>\n",
       "</div>"
      ],
      "text/plain": [
       "            ID        Days Facility   Admitted   Released  Nationality  \\\n",
       "0    Cowlitz 1    0.458333  Cowlitz 2015-04-21 2015-04-21          NaN   \n",
       "1    Cowlitz 2  101.625000  Cowlitz 2017-10-10 2018-01-19          NaN   \n",
       "2    Cowlitz 3   79.416667  Cowlitz 2018-01-02 2018-03-22          NaN   \n",
       "3    Cowlitz 4    4.833333  Cowlitz 2018-02-15 2018-02-19          NaN   \n",
       "4    Cowlitz 5  195.583333  Cowlitz 2016-08-30 2017-03-13          NaN   \n",
       "5    Cowlitz 6  118.458333  Cowlitz 2017-11-30 2018-03-28          NaN   \n",
       "6    Cowlitz 7   20.041667  Cowlitz 2018-02-08 2018-02-28          NaN   \n",
       "7    Cowlitz 8   56.375000  Cowlitz 2016-08-25 2016-10-20          NaN   \n",
       "8    Cowlitz 9   47.125000  Cowlitz 2018-01-12 2018-02-28          NaN   \n",
       "9   Cowlitz 10  241.833333  Cowlitz 2016-02-23 2016-10-21          NaN   \n",
       "10  Cowlitz 11   72.500000  Cowlitz 2017-10-28 2018-01-08          NaN   \n",
       "11  Cowlitz 12  110.375000  Cowlitz 2018-01-17 2018-05-07          NaN   \n",
       "12  Cowlitz 13   44.250000  Cowlitz 2018-03-31 2018-05-14          NaN   \n",
       "13  Cowlitz 14   60.458333  Cowlitz 2018-02-23 2018-04-24          NaN   \n",
       "14  Cowlitz 15  297.791667  Cowlitz 2017-09-02 2018-06-26          NaN   \n",
       "15    NORCOR 1    1.000000   NORCOR 2016-06-14 2016-06-15     Tanzania   \n",
       "16    NORCOR 2  169.000000   NORCOR 2017-01-03 2017-06-21  El Salvador   \n",
       "17    NORCOR 3  293.000000   NORCOR 2017-03-15 2018-01-02     Honduras   \n",
       "18    NORCOR 4  132.000000   NORCOR 2017-03-30 2017-08-09  El Salvador   \n",
       "19    NORCOR 5  130.000000   NORCOR 2017-06-24 2017-11-01    Guatemala   \n",
       "20    NORCOR 6    6.000000   NORCOR 2017-12-21 2017-12-27       Mexico   \n",
       "21    NORCOR 7    4.000000   NORCOR 2018-01-08 2018-01-12        Burma   \n",
       "22    NORCOR 8   44.000000   NORCOR 2018-01-29 2018-03-14     Honduras   \n",
       "23    NORCOR 9   30.000000   NORCOR 2018-04-14 2018-05-14     Honduras   \n",
       "24   NORCOR 10   19.000000   NORCOR 2018-05-13 2018-06-01       Mexico   \n",
       "25   NORCOR 11   23.000000   NORCOR 2018-06-27 2018-07-20     Honduras   \n",
       "26   NORCOR 12  109.000000   NORCOR 2018-06-28 2018-10-15       Mexico   \n",
       "27   NORCOR 13  145.000000   NORCOR 2018-08-01 2018-12-24       Mexico   \n",
       "28   NORCOR 14         NaN   NORCOR 2018-10-26 2019-01-31  El Salvador   \n",
       "29   NORCOR 15         NaN   NORCOR 2019-01-08 2019-01-31    Nicaragua   \n",
       "\n",
       "                                     Criminal Charges  \n",
       "0                                                 NaN  \n",
       "1                                                 NaN  \n",
       "2                                                 NaN  \n",
       "3                                                 NaN  \n",
       "4                                                 NaN  \n",
       "5                                                 NaN  \n",
       "6                                                 NaN  \n",
       "7                                                 NaN  \n",
       "8                                                 NaN  \n",
       "9                                                 NaN  \n",
       "10                                                NaN  \n",
       "11                                                NaN  \n",
       "12                                                NaN  \n",
       "13                                                NaN  \n",
       "14                                                NaN  \n",
       "15                                                NaN  \n",
       "16        Assault and Battery with a Dangerous Weapon  \n",
       "17  Gun on Education Property; Contributing to the...  \n",
       "18  Assault and Battery; Carrying a Dangerous Weap...  \n",
       "19  Assault and Battery 2nd Degree; Robbery-Strong...  \n",
       "20    Distribution of Schedule 4 Controlled Substance  \n",
       "21                              Breaking and Entering  \n",
       "22           Attempted Break/Enter Motor Vehicle (x3)  \n",
       "23  Possession of Marijuana; Unlawful Possession o...  \n",
       "24  Unlawful Concealed Weapon; Felony Possession o...  \n",
       "25                                 Cruelty to Animals  \n",
       "26  Break and Enter Vehicles and Larceny (x7); Fin...  \n",
       "27                  Criminal Sexual Misconduct 5 (x3)  \n",
       "28                             Sexual Assault; Sodomy  \n",
       "29                                     Statutory Rape  "
      ]
     },
     "execution_count": 21,
     "metadata": {},
     "output_type": "execute_result"
    }
   ],
   "source": [
    "df_filled"
   ]
  },
  {
   "cell_type": "code",
   "execution_count": 22,
   "metadata": {},
   "outputs": [],
   "source": [
    "df_filled.sort_values(by='Admitted', inplace=True)"
   ]
  },
  {
   "cell_type": "code",
   "execution_count": 23,
   "metadata": {},
   "outputs": [],
   "source": [
    "df_filled.reset_index(drop=True, inplace=True)"
   ]
  },
  {
   "cell_type": "code",
   "execution_count": 24,
   "metadata": {},
   "outputs": [],
   "source": [
    "df_filled['Days'] = (df_filled['Released'] - df_filled['Admitted']) / np.timedelta64(1, 'D')"
   ]
  },
  {
   "cell_type": "code",
   "execution_count": 25,
   "metadata": {},
   "outputs": [],
   "source": [
    "cow_filled = df_filled[df_filled['Facility'] == 'Cowitz']\n",
    "nor_filled = df_filled[df_filled['Facility'] == 'NORCOR']"
   ]
  },
  {
   "cell_type": "code",
   "execution_count": 26,
   "metadata": {},
   "outputs": [
    {
     "name": "stderr",
     "output_type": "stream",
     "text": [
      "/home/philneff/anaconda3/lib/python3.7/site-packages/ipykernel_launcher.py:1: SettingWithCopyWarning: \n",
      "A value is trying to be set on a copy of a slice from a DataFrame.\n",
      "Try using .loc[row_indexer,col_indexer] = value instead\n",
      "\n",
      "See the caveats in the documentation: http://pandas.pydata.org/pandas-docs/stable/indexing.html#indexing-view-versus-copy\n",
      "  \"\"\"Entry point for launching an IPython kernel.\n"
     ]
    }
   ],
   "source": [
    "nor_filled['Days'] = (nor_filled['Released'] - nor_filled['Admitted']) / np.timedelta64(1, 'D')"
   ]
  },
  {
   "cell_type": "code",
   "execution_count": 27,
   "metadata": {},
   "outputs": [],
   "source": [
    "lines = ['solid'] * 30"
   ]
  },
  {
   "cell_type": "code",
   "execution_count": 28,
   "metadata": {},
   "outputs": [],
   "source": [
    "lines[-1] = 'dotted'"
   ]
  },
  {
   "cell_type": "code",
   "execution_count": 29,
   "metadata": {},
   "outputs": [],
   "source": [
    "lines[-2] = 'dotted'"
   ]
  },
  {
   "cell_type": "code",
   "execution_count": 30,
   "metadata": {},
   "outputs": [],
   "source": [
    "lines[9] = 'dotted'"
   ]
  },
  {
   "cell_type": "code",
   "execution_count": 31,
   "metadata": {},
   "outputs": [
    {
     "data": {
      "text/plain": [
       "Text(0.5, 1.0, 'Detention timeline')"
      ]
     },
     "execution_count": 31,
     "metadata": {},
     "output_type": "execute_result"
    },
    {
     "data": {
      "image/png": "[encoded data removed]",
      "text/plain": [
       "<Figure size 720x432 with 1 Axes>"
      ]
     },
     "metadata": {
      "needs_background": "light"
     },
     "output_type": "display_data"
    }
   ],
   "source": [
    "\n",
    "colors = df_filled['Facility'].replace({'Cowlitz': 'b', 'NORCOR': 'r'})\n",
    "\n",
    "fig = plt.figure(figsize=(10,6))\n",
    "ax = fig.add_subplot(111)\n",
    "ax.xaxis_date()\n",
    "fig = plt.hlines(df_filled.index+1,\n",
    "                mdates.date2num(df_filled['Admitted']),\n",
    "                mdates.date2num(df_filled['Released']),\n",
    "                color = colors,\n",
    "                linestyles = lines)\n",
    "# ax.set_xticklabels(ax.get_xticks(), rotation=45)\n",
    "\n",
    "plt.ylabel('Youth detained')\n",
    "plt.xlabel('Dates of detention')\n",
    "plt.title('Detention timeline')"
   ]
  },
  {
   "cell_type": "code",
   "execution_count": 32,
   "metadata": {},
   "outputs": [],
   "source": [
    "quarterly = df_filled.set_index('Admitted').groupby(['Facility', pd.Grouper(freq='Q')])['ID'].count()\n",
    "yearly = df_filled.set_index('Admitted').groupby(['Facility', pd.Grouper(freq='AS-OCT')])['ID'].count()"
   ]
  },
  {
   "cell_type": "code",
   "execution_count": 33,
   "metadata": {},
   "outputs": [
    {
     "data": {
      "text/plain": [
       "Facility  Admitted  \n",
       "Cowlitz   2015-06-30    1\n",
       "          2016-03-31    1\n",
       "          2016-09-30    2\n",
       "          2017-09-30    1\n",
       "          2017-12-31    3\n",
       "          2018-03-31    7\n",
       "NORCOR    2016-06-30    1\n",
       "          2017-03-31    3\n",
       "          2017-06-30    1\n",
       "          2017-12-31    1\n",
       "          2018-03-31    2\n",
       "          2018-06-30    4\n",
       "          2018-09-30    1\n",
       "          2018-12-31    1\n",
       "          2019-03-31    1\n",
       "Name: ID, dtype: int64"
      ]
     },
     "execution_count": 33,
     "metadata": {},
     "output_type": "execute_result"
    }
   ],
   "source": [
    "quarterly"
   ]
  },
  {
   "cell_type": "code",
   "execution_count": 34,
   "metadata": {},
   "outputs": [],
   "source": [
    "data = yearly.T.unstack()"
   ]
  },
  {
   "cell_type": "code",
   "execution_count": 35,
   "metadata": {},
   "outputs": [],
   "source": [
    "data.columns = data.columns.year"
   ]
  },
  {
   "cell_type": "code",
   "execution_count": 36,
   "metadata": {},
   "outputs": [
    {
     "data": {
      "text/plain": [
       "Int64Index([2014, 2015, 2016, 2017, 2018], dtype='int64', name='Admitted')"
      ]
     },
     "execution_count": 36,
     "metadata": {},
     "output_type": "execute_result"
    }
   ],
   "source": [
    "data.columns"
   ]
  },
  {
   "cell_type": "code",
   "execution_count": 37,
   "metadata": {},
   "outputs": [
    {
     "data": {
      "text/plain": [
       "Text(0.5, 1.0, 'Youth detained for ICE')"
      ]
     },
     "execution_count": 37,
     "metadata": {},
     "output_type": "execute_result"
    },
    {
     "data": {
      "image/png": "[encoded data removed]",
      "text/plain": [
       "<Figure size 720x432 with 1 Axes>"
      ]
     },
     "metadata": {
      "needs_background": "light"
     },
     "output_type": "display_data"
    }
   ],
   "source": [
    "fig, ax = plt.subplots(figsize=(10,6))\n",
    "fig = data.T.plot(kind='bar', ax=ax, stacked=True, color=['b', 'r'])\n",
    "ax.set_xticklabels(ax.get_xticklabels(), rotation=-0)\n",
    "ax.yaxis.set_minor_locator(MultipleLocator(1))\n",
    "ax.yaxis.set_major_locator(MultipleLocator(2))\n",
    "plt.xlabel('Fiscal Year')\n",
    "plt.ylabel('Youth admitted')\n",
    "plt.title('Youth detained for ICE')"
   ]
  },
  {
   "cell_type": "code",
   "execution_count": null,
   "metadata": {},
   "outputs": [],
   "source": []
  },
  {
   "cell_type": "code",
   "execution_count": 38,
   "metadata": {},
   "outputs": [
    {
     "data": {
      "text/plain": [
       "2556.125"
      ]
     },
     "execution_count": 38,
     "metadata": {},
     "output_type": "execute_result"
    }
   ],
   "source": [
    "df['Days'].sum()"
   ]
  },
  {
   "cell_type": "code",
   "execution_count": 39,
   "metadata": {},
   "outputs": [],
   "source": [
    "cow_data = df_filled[df_filled['Facility'] == 'Cowlitz'].set_index('Admitted')['Days']\n",
    "nor_data = df_filled[df_filled['Facility'] == 'NORCOR'].set_index('Admitted')['Days']"
   ]
  },
  {
   "cell_type": "code",
   "execution_count": 40,
   "metadata": {},
   "outputs": [
    {
     "data": {
      "text/plain": [
       "2       1.0\n",
       "5     169.0\n",
       "6     293.0\n",
       "7     132.0\n",
       "8     130.0\n",
       "13      6.0\n",
       "15      4.0\n",
       "18     44.0\n",
       "23     30.0\n",
       "24     19.0\n",
       "25     23.0\n",
       "26    109.0\n",
       "27    145.0\n",
       "28     97.0\n",
       "29     23.0\n",
       "Name: Days, dtype: float64"
      ]
     },
     "execution_count": 40,
     "metadata": {},
     "output_type": "execute_result"
    }
   ],
   "source": [
    "df_filled.loc[df_filled['Facility'] == 'NORCOR', 'Days']"
   ]
  },
  {
   "cell_type": "code",
   "execution_count": 41,
   "metadata": {},
   "outputs": [
    {
     "data": {
      "text/plain": [
       "1225.0"
      ]
     },
     "execution_count": 41,
     "metadata": {},
     "output_type": "execute_result"
    }
   ],
   "source": [
    "nor_data.sum()"
   ]
  },
  {
   "cell_type": "code",
   "execution_count": 42,
   "metadata": {},
   "outputs": [
    {
     "data": {
      "text/plain": [
       "735933.0"
      ]
     },
     "execution_count": 42,
     "metadata": {},
     "output_type": "execute_result"
    }
   ],
   "source": [
    "mdates.date2num(pd.to_datetime('2015-12-01'))"
   ]
  },
  {
   "cell_type": "code",
   "execution_count": 60,
   "metadata": {},
   "outputs": [
    {
     "data": {
      "image/png": "[encoded data removed]",
      "text/plain": [
       "<Figure size 720x432 with 1 Axes>"
      ]
     },
     "metadata": {
      "needs_background": "light"
     },
     "output_type": "display_data"
    }
   ],
   "source": [
    "years_loc = mdates.YearLocator()\n",
    "months_loc = mdates.MonthLocator()\n",
    "years_fmt = mdates.DateFormatter('%Y')\n",
    "\n",
    "fig, ax = plt.subplots(figsize=(10,6))\n",
    "ax.set_facecolor('#DDDDDD')\n",
    "ax.set_axisbelow(True)\n",
    "ax.yaxis.grid(color='#FFFFFF')\n",
    "# ax.xaxis.grid(color='#FFFFFF')\n",
    "ax.set_xlim([mdates.date2num(pd.to_datetime('2015-01-01')), mdates.date2num(pd.to_datetime('2019-03-31'))])\n",
    "# ax.set_ylim([-25, 325])\n",
    "\n",
    "bar1 = ax.bar(cow_data.index, cow_data, linestyle='--', width=19, color='b', alpha=.25)\n",
    "plot1 = plt.scatter(cow_data.index, cow_data, color='b')\n",
    "plot1.set_label('Cowlitz')\n",
    "ax.axvline(mdates.date2num(pd.to_datetime('2018-07-16')), color='b', linestyle='--')\n",
    "ax.text(mdates.date2num(pd.to_datetime('2018-07-16'))-30, 275, 'End of Cowlitz data', rotation=90,fontsize=12)\n",
    "\n",
    "bar2 = ax.bar(nor_data.index, nor_data, width=19, color='r', alpha=.25)\n",
    "plot2 = plt.scatter(nor_data.index, nor_data, color='r')\n",
    "plot2.set_label('NORCOR')\n",
    "ax.axvline(mdates.date2num(pd.to_datetime('2019-02-26')), color='r', linestyle='--')\n",
    "ax.text(mdates.date2num(pd.to_datetime('2019-02-26'))-30, 275, 'End of NORCOR data', rotation=90, fontsize=12)\n",
    "\n",
    "ax.xaxis.set_minor_locator(months_loc)\n",
    "ax.xaxis.set_major_locator(years_loc)\n",
    "ax.xaxis.set_major_formatter(years_fmt)\n",
    "ax.yaxis.set_minor_locator(MultipleLocator(25))\n",
    "ax.yaxis.set_major_locator(MultipleLocator(100))\n",
    "ax.tick_params(labelsize=12)\n",
    "plt.legend(fontsize=12)\n",
    "# plt.title('Youth detained for ICE', fontsize=18)\n",
    "plt.xlabel('Date admitted', fontsize=14)\n",
    "plt.ylabel('Days detained', fontsize=14)\n",
    "fig.savefig('cowlitz-norcor.png',dpi=100, bbox_inches='tight')\n",
    "txt='Source: UW Center for Human Rights with information from Cowlitz County & NORCOR'\n",
    "txt=plt.figtext(0.55, 0, txt, wrap=True, horizontalalignment='center', fontsize=12)\n",
    "txt = 'Youth detained for ICE at Cowlitz County Youth Services Center \\n and NORCOR Juvenile since 2013'\n",
    "plt.title(txt, fontsize=16)\n",
    "fig.savefig('cowlitz-norcor-title.png',dpi=100, bbox_inches='tight')\n",
    "plt.show();"
   ]
  },
  {
   "cell_type": "code",
   "execution_count": 94,
   "metadata": {},
   "outputs": [
    {
     "data": {
      "text/plain": [
       "Admitted\n",
       "2016-06-14      1.0\n",
       "2017-01-03    169.0\n",
       "2017-03-15    293.0\n",
       "2017-03-30    132.0\n",
       "2017-06-24    130.0\n",
       "2017-12-21      6.0\n",
       "2018-01-08      4.0\n",
       "2018-01-29     44.0\n",
       "2018-04-14     30.0\n",
       "2018-05-13     19.0\n",
       "2018-06-27     23.0\n",
       "2018-06-28    109.0\n",
       "2018-08-01    145.0\n",
       "2018-10-26     97.0\n",
       "2019-01-08     23.0\n",
       "Name: Days, dtype: float64"
      ]
     },
     "execution_count": 94,
     "metadata": {},
     "output_type": "execute_result"
    }
   ],
   "source": [
    "nor_data"
   ]
  },
  {
   "cell_type": "code",
   "execution_count": 95,
   "metadata": {},
   "outputs": [
    {
     "data": {
      "text/plain": [
       "Admitted\n",
       "2015-04-21      0.0\n",
       "2016-02-23    241.0\n",
       "2016-08-25     56.0\n",
       "2016-08-30    195.0\n",
       "2017-09-02    297.0\n",
       "2017-10-10    101.0\n",
       "2017-10-28     72.0\n",
       "2017-11-30    118.0\n",
       "2018-01-02     79.0\n",
       "2018-01-12     47.0\n",
       "2018-01-17    110.0\n",
       "2018-02-08     20.0\n",
       "2018-02-15      4.0\n",
       "2018-02-23     60.0\n",
       "2018-03-31     44.0\n",
       "Name: Days, dtype: float64"
      ]
     },
     "execution_count": 95,
     "metadata": {},
     "output_type": "execute_result"
    }
   ],
   "source": [
    "cow_data"
   ]
  },
  {
   "cell_type": "code",
   "execution_count": null,
   "metadata": {},
   "outputs": [],
   "source": []
  }
 ],
 "metadata": {
  "kernelspec": {
   "display_name": "Python 3",
   "language": "python",
   "name": "python3"
  },
  "language_info": {
   "codemirror_mode": {
    "name": "ipython",
    "version": 3
   },
   "file_extension": ".py",
   "mimetype": "text/x-python",
   "name": "python",
   "nbconvert_exporter": "python",
   "pygments_lexer": "ipython3",
   "version": "3.7.2"
  }
 },
 "nbformat": 4,
 "nbformat_minor": 2
}
